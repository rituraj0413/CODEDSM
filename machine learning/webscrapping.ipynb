{
 "cells": [
  {
   "cell_type": "code",
   "execution_count": 3,
   "id": "f59a40d2-8f2b-4cce-b30d-e8b5c92f26b6",
   "metadata": {},
   "outputs": [],
   "source": [
    "import requests\n",
    "from bs4 import BeautifulSoup as bs\n",
    "from urllib.request import urlopen\n",
    "import logging"
   ]
  },
  {
   "cell_type": "code",
   "execution_count": 4,
   "id": "fb877c2d-dc8b-449c-944a-752b66d285d9",
   "metadata": {},
   "outputs": [],
   "source": [
    "flipcart_url = \"https://www.flipkart.com/search?q=\" + \"tv\""
   ]
  },
  {
   "cell_type": "code",
   "execution_count": 5,
   "id": "e0936397-b1d1-4393-b0c6-4e5aece685fb",
   "metadata": {},
   "outputs": [
    {
     "data": {
      "text/plain": [
       "'https://www.flipkart.com/search?q=tv'"
      ]
     },
     "execution_count": 5,
     "metadata": {},
     "output_type": "execute_result"
    }
   ],
   "source": [
    "flipcart_url"
   ]
  },
  {
   "cell_type": "code",
   "execution_count": 6,
   "id": "89161ea5-c6d3-4f35-9bb9-88b828aa8950",
   "metadata": {},
   "outputs": [
    {
     "data": {
      "text/plain": [
       "<http.client.HTTPResponse at 0x1120706d0>"
      ]
     },
     "execution_count": 6,
     "metadata": {},
     "output_type": "execute_result"
    }
   ],
   "source": [
    "urlopen(flipcart_url)"
   ]
  },
  {
   "cell_type": "code",
   "execution_count": 7,
   "id": "0c8ed570-c774-4837-8287-5d66eb8ccb1d",
   "metadata": {},
   "outputs": [],
   "source": [
    "urlclient = urlopen(flipcart_url)"
   ]
  },
  {
   "cell_type": "code",
   "execution_count": 8,
   "id": "b8208653-dcf1-4f99-bced-a23c833ad4cb",
   "metadata": {},
   "outputs": [],
   "source": [
    "urlcode=urlclient.read()"
   ]
  },
  {
   "cell_type": "code",
   "execution_count": 9,
   "id": "6ef1f23f-e02e-4539-a461-fa19bb18faad",
   "metadata": {},
   "outputs": [],
   "source": [
    "flipkart_html=bs(urlcode , 'html.parser')"
   ]
  },
  {
   "cell_type": "code",
   "execution_count": 10,
   "id": "e5fa857a-dfb0-49bd-9ad2-2c9113438a65",
   "metadata": {},
   "outputs": [
    {
     "data": {
      "text/plain": [
       "'https://www.flipkart.com/dyanora-80-cm-32-inch-hd-ready-led-tv-noise-reduction-cinema-zoom-powerful-audio-box-speakers/p/itmf13206e0d8b2b?pid=TVSGMY4RVMUXU93M&lid=LSTTVSGMY4RVMUXU93MKTKTCI&marketplace=FLIPKART&q=dyanora+43+inch+tv&store=ckf%2Fczl&srno=s_1_2&otracker=search&otracker1=search&fm=Search&iid=f1f0841e-4fb7-4aa1-be99-ab1888cdfcea.TVSGMY4RVMUXU93M.SEARCH&ppt=sp&ppn=sp&ssid=x4ehrk39jconez281682932870664&qH=655c71ace5dd0c94'"
      ]
     },
     "execution_count": 10,
     "metadata": {},
     "output_type": "execute_result"
    }
   ],
   "source": [
    "\"https://www.flipkart.com\"+\"/dyanora-80-cm-32-inch-hd-ready-led-tv-noise-reduction-cinema-zoom-powerful-audio-box-speakers/p/itmf13206e0d8b2b?pid=TVSGMY4RVMUXU93M&lid=LSTTVSGMY4RVMUXU93MKTKTCI&marketplace=FLIPKART&q=dyanora+43+inch+tv&store=ckf%2Fczl&srno=s_1_2&otracker=search&otracker1=search&fm=Search&iid=f1f0841e-4fb7-4aa1-be99-ab1888cdfcea.TVSGMY4RVMUXU93M.SEARCH&ppt=sp&ppn=sp&ssid=x4ehrk39jconez281682932870664&qH=655c71ace5dd0c94\"\n"
   ]
  },
  {
   "cell_type": "code",
   "execution_count": 11,
   "id": "ea2462dc-5794-4f33-9645-0a9481d757fe",
   "metadata": {},
   "outputs": [],
   "source": [
    "bigbox =flipkart_html.find_all(\"div\" ,{\"class\":\"_1AtVbE col-12-12\"} )"
   ]
  },
  {
   "cell_type": "code",
   "execution_count": 12,
   "id": "9041b23e-bec8-4ab9-ab22-55e68ad399a0",
   "metadata": {},
   "outputs": [
    {
     "data": {
      "text/plain": [
       "30"
      ]
     },
     "execution_count": 12,
     "metadata": {},
     "output_type": "execute_result"
    }
   ],
   "source": [
    "len(bigbox)"
   ]
  },
  {
   "cell_type": "code",
   "execution_count": 13,
   "id": "aa808422-5204-4382-9617-24e283be7d39",
   "metadata": {},
   "outputs": [],
   "source": [
    "del bigbox[0:3]"
   ]
  },
  {
   "cell_type": "code",
   "execution_count": 14,
   "id": "896c1e4e-a221-43fc-9751-4bfdffb67df4",
   "metadata": {},
   "outputs": [],
   "source": [
    "productlink=\"https://www.flipkart.com\" + bigbox[0].div.div.div.a['href']"
   ]
  },
  {
   "cell_type": "code",
   "execution_count": 15,
   "id": "8bedd68a-f928-41cb-a1e6-64bcf7c9d3af",
   "metadata": {},
   "outputs": [
    {
     "name": "stdout",
     "output_type": "stream",
     "text": [
      "https://www.flipkart.com/beethosol-80-cm-32-inch-hd-ready-led-smart-android-tv/p/itm8d2b1963a203d?pid=TVSGG79MJVM6CEZV&lid=LSTTVSGG79MJVM6CEZV0GKW4Y&marketplace=FLIPKART&q=tv&store=ckf%2Fczl&srno=s_1_2&otracker=search&fm=organic&iid=en_RygLSWXJAhUGz2wP8TJkDpciWJWjgxYuB64%2FteSQ5ii9ychMIXZO1x21VURCjcBtlnlD5sHNv3U72TnQgPdnqw%3D%3D&ppt=None&ppn=None&ssid=dk1v9gggf40000001682957718421&qH=c9a1fdac6e082dd8\n",
      "https://www.flipkart.com/oneplus-y1s-108-cm-43-inch-full-hd-led-smart-android-tv-11-bezel-less-frame/p/itm178846d2e1567?pid=TVSGAXEVSNT3HBQA&lid=LSTTVSGAXEVSNT3HBQA27QSBA&marketplace=FLIPKART&q=tv&store=ckf%2Fczl&spotlightTagId=FkPickId_ckf%2Fczl&srno=s_1_3&otracker=search&fm=organic&iid=ff582a35-f094-498c-a007-01d2354bf288.TVSGAXEVSNT3HBQA.SEARCH&ppt=None&ppn=None&ssid=dk1v9gggf40000001682957718421&qH=c9a1fdac6e082dd8\n",
      "https://www.flipkart.com/lg-80-cm-32-inch-hd-ready-led-smart-webos-tv/p/itm6207e6d122567?pid=TVSFTW4CSRW8PGDQ&lid=LSTTVSFTW4CSRW8PGDQSZQIO6&marketplace=FLIPKART&q=tv&store=ckf%2Fczl&srno=s_1_4&otracker=search&fm=organic&iid=ff582a35-f094-498c-a007-01d2354bf288.TVSFTW4CSRW8PGDQ.SEARCH&ppt=None&ppn=None&ssid=dk1v9gggf40000001682957718421&qH=c9a1fdac6e082dd8\n",
      "https://www.flipkart.com/mi-5a-80-cm-32-inch-hd-ready-led-smart-android-tv-dolby-audio-2022-model/p/itm98501ffa297ba?pid=TVSGD5CS2SDUUZGN&lid=LSTTVSGD5CS2SDUUZGNPVJDFV&marketplace=FLIPKART&q=tv&store=ckf%2Fczl&spotlightTagId=BestsellerId_ckf%2Fczl&srno=s_1_5&otracker=search&fm=organic&iid=ff582a35-f094-498c-a007-01d2354bf288.TVSGD5CS2SDUUZGN.SEARCH&ppt=None&ppn=None&ssid=dk1v9gggf40000001682957718421&qH=c9a1fdac6e082dd8\n",
      "https://www.flipkart.com/infinix-y1-80-cm-32-inch-hd-ready-led-smart-linux-tv-wall-mount/p/itme5476ca89d1b0?pid=TVSGFGF34GMTB9KF&lid=LSTTVSGFGF34GMTB9KFNOEUDG&marketplace=FLIPKART&q=tv&store=ckf%2Fczl&spotlightTagId=BestsellerId_ckf%2Fczl&srno=s_1_6&otracker=search&fm=organic&iid=ff582a35-f094-498c-a007-01d2354bf288.TVSGFGF34GMTB9KF.SEARCH&ppt=None&ppn=None&ssid=dk1v9gggf40000001682957718421&qH=c9a1fdac6e082dd8\n",
      "https://www.flipkart.com/realme-80-cm-32-inch-hd-ready-led-smart-android-tv/p/itm56d1cf16da75b?pid=TVSFRTJQTZVKTF6Y&lid=LSTTVSFRTJQTZVKTF6YTYQNP6&marketplace=FLIPKART&q=tv&store=ckf%2Fczl&srno=s_1_7&otracker=search&fm=organic&iid=ff582a35-f094-498c-a007-01d2354bf288.TVSFRTJQTZVKTF6Y.SEARCH&ppt=None&ppn=None&ssid=dk1v9gggf40000001682957718421&qH=c9a1fdac6e082dd8\n",
      "https://www.flipkart.com/cellecor-108-cm-43-inch-full-hd-led-smart-android-tv/p/itm75f921a486034?pid=TVSGGXCADRPRC9YE&lid=LSTTVSGGXCADRPRC9YEZ18IJ6&marketplace=FLIPKART&q=tv&store=ckf%2Fczl&srno=s_1_8&otracker=search&fm=organic&iid=en_RygLSWXJAhUGz2wP8TJkDpciWJWjgxYuB64%2FteSQ5ijxG9hc4dFkiXu3v%2FqLrO%2Bxzca2baxuazTrl%2Fu1xAht2A%3D%3D&ppt=None&ppn=None&ssid=dk1v9gggf40000001682957718421&qH=c9a1fdac6e082dd8\n",
      "https://www.flipkart.com/oneplus-y1-100-cm-40-inch-full-hd-led-smart-android-tv-dolby-audio/p/itm56416c21fbb28?pid=TVSG25MMGB8NKFD8&lid=LSTTVSG25MMGB8NKFD8MWAMJF&marketplace=FLIPKART&q=tv&store=ckf%2Fczl&srno=s_1_9&otracker=search&fm=organic&iid=ff582a35-f094-498c-a007-01d2354bf288.TVSG25MMGB8NKFD8.SEARCH&ppt=None&ppn=None&ssid=dk1v9gggf40000001682957718421&qH=c9a1fdac6e082dd8\n",
      "https://www.flipkart.com/samsung-80-cm-32-inch-hd-ready-led-smart-tizen-tv-2022-model/p/itm3c07ddc2dd25d?pid=TVSGHY2UZA9YHWQN&lid=LSTTVSGHY2UZA9YHWQNCPAW6M&marketplace=FLIPKART&q=tv&store=ckf%2Fczl&spotlightTagId=BestsellerId_ckf%2Fczl&srno=s_1_10&otracker=search&fm=organic&iid=ff582a35-f094-498c-a007-01d2354bf288.TVSGHY2UZA9YHWQN.SEARCH&ppt=None&ppn=None&ssid=dk1v9gggf40000001682957718421&qH=c9a1fdac6e082dd8\n",
      "https://www.flipkart.com/thomson-alpha-80-cm-32-inch-hd-ready-led-smart-linux-tv-30-w-sound-output-bezel-less-design/p/itm0e90bcdadb9c9?pid=TVSGEMQV7R4CMTGA&lid=LSTTVSGEMQV7R4CMTGAODWDFI&marketplace=FLIPKART&q=tv&store=ckf%2Fczl&srno=s_1_11&otracker=search&fm=organic&iid=ff582a35-f094-498c-a007-01d2354bf288.TVSGEMQV7R4CMTGA.SEARCH&ppt=None&ppn=None&ssid=dk1v9gggf40000001682957718421&qH=c9a1fdac6e082dd8\n",
      "https://www.flipkart.com/cellecor-100-cm-40-inch-full-hd-led-smart-android-tv/p/itm3930cf585342e?pid=TVSGF92JZEG6B9D8&lid=LSTTVSGF92JZEG6B9D8YDGCSF&marketplace=FLIPKART&q=tv&store=ckf%2Fczl&srno=s_1_12&otracker=search&fm=organic&iid=en_RygLSWXJAhUGz2wP8TJkDpciWJWjgxYuB64%2FteSQ5ihTQHUuhq4S2sCXY9FE%2F2JSyL7D%2BJYyBwpplsZUxP57JQ%3D%3D&ppt=None&ppn=None&ssid=dk1v9gggf40000001682957718421&qH=c9a1fdac6e082dd8\n",
      "https://www.flipkart.com/oneplus-y1s-80-cm-32-inch-hd-ready-led-smart-android-tv-11-bezel-less-frame/p/itm0a39edd7df236?pid=TVSGAXEVXNG9YBUM&lid=LSTTVSGAXEVXNG9YBUMLGWYAS&marketplace=FLIPKART&q=tv&store=ckf%2Fczl&srno=s_1_13&otracker=search&fm=organic&iid=ff582a35-f094-498c-a007-01d2354bf288.TVSGAXEVXNG9YBUM.SEARCH&ppt=None&ppn=None&ssid=dk1v9gggf40000001682957718421&qH=c9a1fdac6e082dd8\n",
      "https://www.flipkart.com/sens-80-cm-32-inch-hd-ready-led-smart-linux-tv-dolby-audio/p/itm42bfcb2db2495?pid=TVSGHY2BCKSKB5QF&lid=LSTTVSGHY2BCKSKB5QFJ7HUWT&marketplace=FLIPKART&q=tv&store=ckf%2Fczl&srno=s_1_14&otracker=search&fm=organic&iid=ff582a35-f094-498c-a007-01d2354bf288.TVSGHY2BCKSKB5QF.SEARCH&ppt=None&ppn=None&ssid=dk1v9gggf40000001682957718421&qH=c9a1fdac6e082dd8\n",
      "https://www.flipkart.com/oneplus-y1-80-cm-32-inch-hd-ready-led-smart-android-tv-dolby-audio/p/itme650a6bb8cee3?pid=TVSFVWD2ENXYGEJY&lid=LSTTVSFVWD2ENXYGEJYBNWSST&marketplace=FLIPKART&q=tv&store=ckf%2Fczl&srno=s_1_15&otracker=search&fm=organic&iid=ff582a35-f094-498c-a007-01d2354bf288.TVSFVWD2ENXYGEJY.SEARCH&ppt=None&ppn=None&ssid=dk1v9gggf40000001682957718421&qH=c9a1fdac6e082dd8\n",
      "https://www.flipkart.com/skytron-80-cm-32-inch-hd-ready-led-smart-android-based-tv-20w-thunder-speaker-soundbar-cloud-lite-os-briefcase-packaging/p/itm2ce4c5b34eafd?pid=TVSGK94MGSERXAVA&lid=LSTTVSGK94MGSERXAVASBPRGZ&marketplace=FLIPKART&q=tv&store=ckf%2Fczl&srno=s_1_16&otracker=search&fm=organic&iid=en_RygLSWXJAhUGz2wP8TJkDpciWJWjgxYuB64%2FteSQ5ij%2F%2FMJQp3hU422YX4otsG7duYxo146jJe1evfrn3I4kpg%3D%3D&ppt=None&ppn=None&ssid=dk1v9gggf40000001682957718421&qH=c9a1fdac6e082dd8\n",
      "https://www.flipkart.com/realme-100-3-cm-40-inch-full-hd-led-smart-android-tv-11-2022-model/p/itmfbee9155488c1?pid=TVSGDC5CN7XP3KNE&lid=LSTTVSGDC5CN7XP3KNEIEAWVG&marketplace=FLIPKART&q=tv&store=ckf%2Fczl&srno=s_1_17&otracker=search&fm=organic&iid=ff582a35-f094-498c-a007-01d2354bf288.TVSGDC5CN7XP3KNE.SEARCH&ppt=None&ppn=None&ssid=dk1v9gggf40000001682957718421&qH=c9a1fdac6e082dd8\n",
      "https://www.flipkart.com/acer-series-80-cm-32-inch-hd-ready-led-smart-android-tv-11-1-5gb-ram-2022-model/p/itm5767c4e3d5359?pid=TVSGEYD98YRZGSRU&lid=LSTTVSGEYD98YRZGSRUPETPT6&marketplace=FLIPKART&q=tv&store=ckf%2Fczl&srno=s_1_18&otracker=search&fm=organic&iid=ff582a35-f094-498c-a007-01d2354bf288.TVSGEYD98YRZGSRU.SEARCH&ppt=None&ppn=None&ssid=dk1v9gggf40000001682957718421&qH=c9a1fdac6e082dd8\n",
      "https://www.flipkart.com/sansui-80-cm-32-inch-hd-ready-led-smart-android-tv-11-midnight-black/p/itm038eb70861a01?pid=TVSGYGQW3RZPMEVT&lid=LSTTVSGYGQW3RZPMEVTTQHQIM&marketplace=FLIPKART&q=tv&store=ckf%2Fczl&srno=s_1_19&otracker=search&fm=organic&iid=ff582a35-f094-498c-a007-01d2354bf288.TVSGYGQW3RZPMEVT.SEARCH&ppt=None&ppn=None&ssid=dk1v9gggf40000001682957718421&qH=c9a1fdac6e082dd8\n",
      "https://www.flipkart.com/beethosol-60-cm-24-inch-hd-ready-led-tv/p/itm7ac094f951c65?pid=TVSGNY45UZDEBZGA&lid=LSTTVSGNY45UZDEBZGANIF2SG&marketplace=FLIPKART&q=tv&store=ckf%2Fczl&srno=s_1_20&otracker=search&fm=organic&iid=en_RygLSWXJAhUGz2wP8TJkDpciWJWjgxYuB64%2FteSQ5ih8DXY%2FkMMTnCEppsKTlVHpHS2o5sd%2B3LWqrE1cn1UVlA%3D%3D&ppt=None&ppn=None&ssid=dk1v9gggf40000001682957718421&qH=c9a1fdac6e082dd8\n",
      "https://www.flipkart.com/sens-80-cm-32-inch-hd-ready-led-smart-android-tv-dolby-audio-google-assistant/p/itm9340589d4f56d?pid=TVSGHY2BHWNJ7JHG&lid=LSTTVSGHY2BHWNJ7JHGV04LJU&marketplace=FLIPKART&q=tv&store=ckf%2Fczl&srno=s_1_21&otracker=search&fm=organic&iid=ff582a35-f094-498c-a007-01d2354bf288.TVSGHY2BHWNJ7JHG.SEARCH&ppt=None&ppn=None&ssid=dk1v9gggf40000001682957718421&qH=c9a1fdac6e082dd8\n",
      "https://www.flipkart.com/mi-5a-100-cm-40-inch-full-hd-led-smart-android-tv-dolby-audio-2022-model/p/itm6be60be56f52d?pid=TVSGD5CS4N7NWFZD&lid=LSTTVSGD5CS4N7NWFZDCMWLRV&marketplace=FLIPKART&q=tv&store=ckf%2Fczl&srno=s_1_22&otracker=search&fm=organic&iid=ff582a35-f094-498c-a007-01d2354bf288.TVSGD5CS4N7NWFZD.SEARCH&ppt=None&ppn=None&ssid=dk1v9gggf40000001682957718421&qH=c9a1fdac6e082dd8\n",
      "https://www.flipkart.com/realme-108-cm-43-inch-full-hd-led-smart-android-tv-11-2022-model/p/itmef2cbebb563ff?pid=TVSGDC5CFDS55XDC&lid=LSTTVSGDC5CFDS55XDCP0DMJQ&marketplace=FLIPKART&q=tv&store=ckf%2Fczl&srno=s_1_23&otracker=search&fm=organic&iid=ff582a35-f094-498c-a007-01d2354bf288.TVSGDC5CFDS55XDC.SEARCH&ppt=None&ppn=None&ssid=dk1v9gggf40000001682957718421&qH=c9a1fdac6e082dd8\n",
      "https://www.flipkart.com/cellecor-80-cm-32-inch-full-hd-led-smart-android-tv/p/itm87717d400b2d5?pid=TVSGGXCA8TH5QHF5&lid=LSTTVSGGXCA8TH5QHF5DAEXVI&marketplace=FLIPKART&q=tv&store=ckf%2Fczl&srno=s_1_24&otracker=search&fm=organic&iid=en_RygLSWXJAhUGz2wP8TJkDpciWJWjgxYuB64%2FteSQ5iiaYUbLj6QRjS1o5XlsBRd%2BCnCFTuTMPpmU2N26H2JpYA%3D%3D&ppt=None&ppn=None&ssid=dk1v9gggf40000001682957718421&qH=c9a1fdac6e082dd8\n"
     ]
    },
    {
     "ename": "AttributeError",
     "evalue": "'NoneType' object has no attribute 'a'",
     "output_type": "error",
     "traceback": [
      "\u001b[0;31m---------------------------------------------------------------------------\u001b[0m",
      "\u001b[0;31mAttributeError\u001b[0m                            Traceback (most recent call last)",
      "Cell \u001b[0;32mIn[15], line 2\u001b[0m\n\u001b[1;32m      1\u001b[0m \u001b[38;5;28;01mfor\u001b[39;00m i \u001b[38;5;129;01min\u001b[39;00m bigbox:\n\u001b[0;32m----> 2\u001b[0m     \u001b[38;5;28mprint\u001b[39m(\u001b[38;5;124m\"\u001b[39m\u001b[38;5;124mhttps://www.flipkart.com\u001b[39m\u001b[38;5;124m\"\u001b[39m \u001b[38;5;241m+\u001b[39m \u001b[43mi\u001b[49m\u001b[38;5;241;43m.\u001b[39;49m\u001b[43mdiv\u001b[49m\u001b[38;5;241;43m.\u001b[39;49m\u001b[43mdiv\u001b[49m\u001b[38;5;241;43m.\u001b[39;49m\u001b[43mdiv\u001b[49m\u001b[38;5;241;43m.\u001b[39;49m\u001b[43ma\u001b[49m[\u001b[38;5;124m'\u001b[39m\u001b[38;5;124mhref\u001b[39m\u001b[38;5;124m'\u001b[39m])\n",
      "\u001b[0;31mAttributeError\u001b[0m: 'NoneType' object has no attribute 'a'"
     ]
    }
   ],
   "source": [
    "for i in bigbox:\n",
    "    print(\"https://www.flipkart.com\" + i.div.div.div.a['href'])\n"
   ]
  },
  {
   "cell_type": "code",
   "execution_count": 16,
   "id": "e6eb35c9-a5d8-4a76-973e-c3f17d8aa37e",
   "metadata": {},
   "outputs": [
    {
     "data": {
      "text/plain": [
       "'https://www.flipkart.com/beethosol-80-cm-32-inch-hd-ready-led-smart-android-tv/p/itm8d2b1963a203d?pid=TVSGG79MJVM6CEZV&lid=LSTTVSGG79MJVM6CEZV0GKW4Y&marketplace=FLIPKART&q=tv&store=ckf%2Fczl&srno=s_1_2&otracker=search&fm=organic&iid=en_RygLSWXJAhUGz2wP8TJkDpciWJWjgxYuB64%2FteSQ5ii9ychMIXZO1x21VURCjcBtlnlD5sHNv3U72TnQgPdnqw%3D%3D&ppt=None&ppn=None&ssid=dk1v9gggf40000001682957718421&qH=c9a1fdac6e082dd8'"
      ]
     },
     "execution_count": 16,
     "metadata": {},
     "output_type": "execute_result"
    }
   ],
   "source": [
    "productlink"
   ]
  },
  {
   "cell_type": "code",
   "execution_count": 19,
   "id": "78a782de-478a-47c3-b365-372b54f33cc1",
   "metadata": {},
   "outputs": [
    {
     "data": {
      "text/plain": [
       "<Response [200]>"
      ]
     },
     "execution_count": 19,
     "metadata": {},
     "output_type": "execute_result"
    }
   ],
   "source": [
    "requests.get(productlink)"
   ]
  },
  {
   "cell_type": "raw",
   "id": "a35d007b-6f21-4cf6-8262-1c93059716e8",
   "metadata": {},
   "source": []
  },
  {
   "cell_type": "raw",
   "id": "92e046bc-42d9-4f69-8f60-ab81e9c3553c",
   "metadata": {},
   "source": []
  },
  {
   "cell_type": "code",
   "execution_count": 20,
   "id": "699d44a9-e2aa-4bd5-82fe-b586c4507ff5",
   "metadata": {},
   "outputs": [],
   "source": [
    "procuct_req = requests.get(productlink)"
   ]
  },
  {
   "cell_type": "code",
   "execution_count": 23,
   "id": "660f0e31-db15-4a4a-83ab-16a07a957413",
   "metadata": {},
   "outputs": [],
   "source": [
    "product_html = bs(procuct_req.text,'html.parser')"
   ]
  },
  {
   "cell_type": "code",
   "execution_count": 26,
   "id": "32690041-d6e2-4888-8a4f-1d2128a923f7",
   "metadata": {},
   "outputs": [],
   "source": [
    "coment_box = product_html.find_all(\"div\",{\"class\":\"_16PBlm\"})"
   ]
  },
  {
   "cell_type": "code",
   "execution_count": 27,
   "id": "d65dbac1-a678-4370-82d4-d5cb73f6ad67",
   "metadata": {},
   "outputs": [
    {
     "data": {
      "text/plain": [
       "11"
      ]
     },
     "execution_count": 27,
     "metadata": {},
     "output_type": "execute_result"
    }
   ],
   "source": [
    "len(coment_box)"
   ]
  },
  {
   "cell_type": "code",
   "execution_count": 33,
   "id": "21ddc9cf-825e-4545-a5e3-15ce308acba4",
   "metadata": {},
   "outputs": [
    {
     "data": {
      "text/plain": [
       "'Arun Gujjar'"
      ]
     },
     "execution_count": 33,
     "metadata": {},
     "output_type": "execute_result"
    }
   ],
   "source": [
    "coment_box[0].div.div.find_all(\"p\",{\"class\":\"_2sc7ZR _2V5EHH\"})[0].text"
   ]
  },
  {
   "cell_type": "code",
   "execution_count": 34,
   "id": "7af46451-de9a-4fa3-a946-068383f7a8ef",
   "metadata": {},
   "outputs": [
    {
     "name": "stdout",
     "output_type": "stream",
     "text": [
      "Arun Gujjar\n",
      " Madhava Raghavendra Raghavendra\n",
      "Raja sekhar\n",
      "Manoj Kumar\n",
      "Flipkart Customer\n",
      "C. Lalduhtluanga (tluanga) \n",
      "Flipkart Customer\n",
      "Satyam Thakur\n",
      "Abhiranjan  Kumar\n",
      "Neeraj Sahu\n"
     ]
    },
    {
     "ename": "AttributeError",
     "evalue": "'NoneType' object has no attribute 'div'",
     "output_type": "error",
     "traceback": [
      "\u001b[0;31m---------------------------------------------------------------------------\u001b[0m",
      "\u001b[0;31mAttributeError\u001b[0m                            Traceback (most recent call last)",
      "Cell \u001b[0;32mIn[34], line 2\u001b[0m\n\u001b[1;32m      1\u001b[0m \u001b[38;5;28;01mfor\u001b[39;00m i \u001b[38;5;129;01min\u001b[39;00m coment_box:\n\u001b[0;32m----> 2\u001b[0m     \u001b[38;5;28mprint\u001b[39m(\u001b[43mi\u001b[49m\u001b[38;5;241;43m.\u001b[39;49m\u001b[43mdiv\u001b[49m\u001b[38;5;241;43m.\u001b[39;49m\u001b[43mdiv\u001b[49m\u001b[38;5;241m.\u001b[39mfind_all(\u001b[38;5;124m\"\u001b[39m\u001b[38;5;124mp\u001b[39m\u001b[38;5;124m\"\u001b[39m,{\u001b[38;5;124m\"\u001b[39m\u001b[38;5;124mclass\u001b[39m\u001b[38;5;124m\"\u001b[39m:\u001b[38;5;124m\"\u001b[39m\u001b[38;5;124m_2sc7ZR _2V5EHH\u001b[39m\u001b[38;5;124m\"\u001b[39m})[\u001b[38;5;241m0\u001b[39m]\u001b[38;5;241m.\u001b[39mtext)\n",
      "\u001b[0;31mAttributeError\u001b[0m: 'NoneType' object has no attribute 'div'"
     ]
    }
   ],
   "source": [
    "for i in coment_box:\n",
    "    print(i.div.div.find_all(\"p\",{\"class\":\"_2sc7ZR _2V5EHH\"})[0].text)\n"
   ]
  },
  {
   "cell_type": "code",
   "execution_count": 36,
   "id": "6ce820c2-274f-42d5-8aa8-e13ff5612766",
   "metadata": {},
   "outputs": [
    {
     "data": {
      "text/plain": [
       "<div class=\"_3LWZlK _1BLPMq\">4<img class=\"_1wB99o\" src=\"data:image/svg+xml;base64,PHN2ZyB4bWxucz0iaHR0cDovL3d3dy53My5vcmcvMjAwMC9zdmciIHdpZHRoPSIxMyIgaGVpZ2h0PSIxMiI+PHBhdGggZmlsbD0iI0ZGRiIgZD0iTTYuNSA5LjQzOWwtMy42NzQgMi4yMy45NC00LjI2LTMuMjEtMi44ODMgNC4yNTQtLjQwNEw2LjUuMTEybDEuNjkgNC4wMSA0LjI1NC40MDQtMy4yMSAyLjg4Mi45NCA0LjI2eiIvPjwvc3ZnPg==\"/></div>"
      ]
     },
     "execution_count": 36,
     "metadata": {},
     "output_type": "execute_result"
    }
   ],
   "source": [
    "coment_box[0].div.div.div.div"
   ]
  },
  {
   "cell_type": "code",
   "execution_count": 37,
   "id": "545e4372-e44f-478d-8f1b-5d7016a97a59",
   "metadata": {},
   "outputs": [
    {
     "data": {
      "text/plain": [
       "'4'"
      ]
     },
     "execution_count": 37,
     "metadata": {},
     "output_type": "execute_result"
    }
   ],
   "source": [
    "coment_box[0].div.div.div.div.text"
   ]
  },
  {
   "cell_type": "code",
   "execution_count": 38,
   "id": "2825f74e-41e1-4e7f-b6cd-5269c0355ca8",
   "metadata": {},
   "outputs": [
    {
     "name": "stdout",
     "output_type": "stream",
     "text": [
      "4\n",
      "5\n",
      "4\n",
      "4\n",
      "5\n",
      "4\n",
      "5\n",
      "5\n",
      "5\n",
      "5\n"
     ]
    },
    {
     "ename": "AttributeError",
     "evalue": "'NoneType' object has no attribute 'div'",
     "output_type": "error",
     "traceback": [
      "\u001b[0;31m---------------------------------------------------------------------------\u001b[0m",
      "\u001b[0;31mAttributeError\u001b[0m                            Traceback (most recent call last)",
      "Cell \u001b[0;32mIn[38], line 2\u001b[0m\n\u001b[1;32m      1\u001b[0m \u001b[38;5;28;01mfor\u001b[39;00m i \u001b[38;5;129;01min\u001b[39;00m coment_box:\n\u001b[0;32m----> 2\u001b[0m     \u001b[38;5;28mprint\u001b[39m(\u001b[43mi\u001b[49m\u001b[38;5;241;43m.\u001b[39;49m\u001b[43mdiv\u001b[49m\u001b[38;5;241;43m.\u001b[39;49m\u001b[43mdiv\u001b[49m\u001b[38;5;241m.\u001b[39mdiv\u001b[38;5;241m.\u001b[39mdiv\u001b[38;5;241m.\u001b[39mtext)\n",
      "\u001b[0;31mAttributeError\u001b[0m: 'NoneType' object has no attribute 'div'"
     ]
    }
   ],
   "source": [
    "for i in coment_box:\n",
    "    print(i.div.div.div.div.text)"
   ]
  },
  {
   "cell_type": "code",
   "execution_count": 46,
   "id": "c3bb71e8-ad6b-471c-b6f7-1f183dc38812",
   "metadata": {},
   "outputs": [
    {
     "data": {
      "text/plain": [
       "'Really Nice'"
      ]
     },
     "execution_count": 46,
     "metadata": {},
     "output_type": "execute_result"
    }
   ],
   "source": [
    "coment_box[0].div.div.div.p.text"
   ]
  },
  {
   "cell_type": "code",
   "execution_count": 47,
   "id": "e5b08bfc-3c77-4337-9d2b-0afb420abd98",
   "metadata": {},
   "outputs": [
    {
     "name": "stdout",
     "output_type": "stream",
     "text": [
      "Really Nice\n",
      "Just wow!\n",
      "Wonderful\n",
      "Pretty good\n",
      "Terrific\n",
      "Worth the money\n",
      "Simply awesome\n",
      "Wonderful\n",
      "Perfect product!\n",
      "Classy product\n"
     ]
    },
    {
     "ename": "AttributeError",
     "evalue": "'NoneType' object has no attribute 'div'",
     "output_type": "error",
     "traceback": [
      "\u001b[0;31m---------------------------------------------------------------------------\u001b[0m",
      "\u001b[0;31mAttributeError\u001b[0m                            Traceback (most recent call last)",
      "Cell \u001b[0;32mIn[47], line 2\u001b[0m\n\u001b[1;32m      1\u001b[0m \u001b[38;5;28;01mfor\u001b[39;00m i \u001b[38;5;129;01min\u001b[39;00m coment_box:\n\u001b[0;32m----> 2\u001b[0m     \u001b[38;5;28mprint\u001b[39m(\u001b[43mi\u001b[49m\u001b[38;5;241;43m.\u001b[39;49m\u001b[43mdiv\u001b[49m\u001b[38;5;241;43m.\u001b[39;49m\u001b[43mdiv\u001b[49m\u001b[38;5;241m.\u001b[39mdiv\u001b[38;5;241m.\u001b[39mp\u001b[38;5;241m.\u001b[39mtext)\n",
      "\u001b[0;31mAttributeError\u001b[0m: 'NoneType' object has no attribute 'div'"
     ]
    }
   ],
   "source": [
    "for i in coment_box:\n",
    "    print(i.div.div.div.p.text)"
   ]
  },
  {
   "cell_type": "code",
   "execution_count": 48,
   "id": "3f74dba5-62f4-4247-898d-ea8ef737ac1d",
   "metadata": {},
   "outputs": [
    {
     "data": {
      "text/plain": [
       "'its a smart tv (not Android )it have already installed apps like youtubeprime video and many more Connectivity is good looks good overall great tv in this price range.READ MORE'"
      ]
     },
     "execution_count": 48,
     "metadata": {},
     "output_type": "execute_result"
    }
   ],
   "source": [
    "coment_box[0].div.div.find_all(\"div\",{\"class\":\"\"})[0].text"
   ]
  },
  {
   "cell_type": "code",
   "execution_count": 50,
   "id": "e94b483a-21c0-45ea-960c-c8c9910d11e9",
   "metadata": {},
   "outputs": [
    {
     "name": "stdout",
     "output_type": "stream",
     "text": [
      "its a smart tv (not Android )it have already installed apps like youtubeprime video and many more Connectivity is good looks good overall great tv in this price range.READ MORE\n",
      "product  quality ok I am happyREAD MORE\n",
      "I was dare this to buy, but finally it was really value for money. Sound was very loud, picture quality is also goodREAD MORE\n",
      "Good...READ MORE\n",
      "value for money👍👍👍👍👍👍READ MORE\n",
      "Very goodREAD MORE\n",
      "Good productREAD MORE\n",
      "Vary good 👍👍👍READ MORE\n",
      "Very nice product 👍😊 I am very happyREAD MORE\n",
      "It's niceREAD MORE\n"
     ]
    },
    {
     "ename": "AttributeError",
     "evalue": "'NoneType' object has no attribute 'div'",
     "output_type": "error",
     "traceback": [
      "\u001b[0;31m---------------------------------------------------------------------------\u001b[0m",
      "\u001b[0;31mAttributeError\u001b[0m                            Traceback (most recent call last)",
      "Cell \u001b[0;32mIn[50], line 2\u001b[0m\n\u001b[1;32m      1\u001b[0m \u001b[38;5;28;01mfor\u001b[39;00m i \u001b[38;5;129;01min\u001b[39;00m coment_box:\n\u001b[0;32m----> 2\u001b[0m     \u001b[38;5;28mprint\u001b[39m(\u001b[43mi\u001b[49m\u001b[38;5;241;43m.\u001b[39;49m\u001b[43mdiv\u001b[49m\u001b[38;5;241;43m.\u001b[39;49m\u001b[43mdiv\u001b[49m\u001b[38;5;241m.\u001b[39mfind_all(\u001b[38;5;124m\"\u001b[39m\u001b[38;5;124mdiv\u001b[39m\u001b[38;5;124m\"\u001b[39m,{\u001b[38;5;124m\"\u001b[39m\u001b[38;5;124mclass\u001b[39m\u001b[38;5;124m\"\u001b[39m:\u001b[38;5;124m\"\u001b[39m\u001b[38;5;124m\"\u001b[39m})[\u001b[38;5;241m0\u001b[39m]\u001b[38;5;241m.\u001b[39mtext)\n",
      "\u001b[0;31mAttributeError\u001b[0m: 'NoneType' object has no attribute 'div'"
     ]
    }
   ],
   "source": [
    "for i in coment_box:\n",
    "    print(i.div.div.find_all(\"div\",{\"class\":\"\"})[0].text)\n",
    "    "
   ]
  },
  {
   "cell_type": "code",
   "execution_count": null,
   "id": "ca930896-76fb-4171-9b3b-0a6c0e9d78af",
   "metadata": {},
   "outputs": [],
   "source": []
  }
 ],
 "metadata": {
  "kernelspec": {
   "display_name": "Python 3 (ipykernel)",
   "language": "python",
   "name": "python3"
  },
  "language_info": {
   "codemirror_mode": {
    "name": "ipython",
    "version": 3
   },
   "file_extension": ".py",
   "mimetype": "text/x-python",
   "name": "python",
   "nbconvert_exporter": "python",
   "pygments_lexer": "ipython3",
   "version": "3.10.9"
  }
 },
 "nbformat": 4,
 "nbformat_minor": 5
}
