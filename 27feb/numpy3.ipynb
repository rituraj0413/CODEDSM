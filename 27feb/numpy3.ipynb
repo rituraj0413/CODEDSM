{
 "cells": [
  {
   "cell_type": "code",
   "execution_count": 8,
   "id": "7a8ba093-bc3a-458e-ab7a-1f9f0b61866e",
   "metadata": {},
   "outputs": [],
   "source": [
    "import numpy as np"
   ]
  },
  {
   "cell_type": "code",
   "execution_count": 9,
   "id": "72994c5b-c750-4a55-8002-0d4a17eb8cac",
   "metadata": {},
   "outputs": [],
   "source": [
    "#Numpy - Array Manipulation."
   ]
  },
  {
   "cell_type": "code",
   "execution_count": 16,
   "id": "d3b3db50-6c13-4fe9-9b13-6a6117e6de2b",
   "metadata": {},
   "outputs": [],
   "source": [
    "arr =np.random.randint(1,10, [4,4])"
   ]
  },
  {
   "cell_type": "code",
   "execution_count": 17,
   "id": "c3be852a-e128-4e3a-8d6b-67d7e98b9e9b",
   "metadata": {},
   "outputs": [
    {
     "data": {
      "text/plain": [
       "array([[5, 9, 2, 8],\n",
       "       [8, 7, 8, 6],\n",
       "       [5, 6, 8, 8],\n",
       "       [9, 9, 4, 8]])"
      ]
     },
     "execution_count": 17,
     "metadata": {},
     "output_type": "execute_result"
    }
   ],
   "source": [
    "arr"
   ]
  },
  {
   "cell_type": "code",
   "execution_count": 18,
   "id": "21d83ba7-c7f0-4efe-b6b8-c0fef13fb3b3",
   "metadata": {},
   "outputs": [
    {
     "data": {
      "text/plain": [
       "array([[5, 9],\n",
       "       [2, 8],\n",
       "       [8, 7],\n",
       "       [8, 6],\n",
       "       [5, 6],\n",
       "       [8, 8],\n",
       "       [9, 9],\n",
       "       [4, 8]])"
      ]
     },
     "execution_count": 18,
     "metadata": {},
     "output_type": "execute_result"
    }
   ],
   "source": [
    "arr.reshape(8,2)"
   ]
  },
  {
   "cell_type": "code",
   "execution_count": 19,
   "id": "26decdf5-7c31-4c1e-9aec-cfd5a6ba5fb0",
   "metadata": {},
   "outputs": [
    {
     "data": {
      "text/plain": [
       "array([[5, 9, 2, 8],\n",
       "       [8, 7, 8, 6],\n",
       "       [5, 6, 8, 8],\n",
       "       [9, 9, 4, 8]])"
      ]
     },
     "execution_count": 19,
     "metadata": {},
     "output_type": "execute_result"
    }
   ],
   "source": [
    "arr"
   ]
  },
  {
   "cell_type": "code",
   "execution_count": 20,
   "id": "5dc831fd-d4f5-491a-817e-769bd5d3b77e",
   "metadata": {},
   "outputs": [
    {
     "data": {
      "text/plain": [
       "array([[5, 8, 5, 9],\n",
       "       [9, 7, 6, 9],\n",
       "       [2, 8, 8, 4],\n",
       "       [8, 6, 8, 8]])"
      ]
     },
     "execution_count": 20,
     "metadata": {},
     "output_type": "execute_result"
    }
   ],
   "source": [
    "arr.T"
   ]
  },
  {
   "cell_type": "code",
   "execution_count": 21,
   "id": "6c9944a2-e08b-4526-a1e2-4a9a653c0408",
   "metadata": {},
   "outputs": [
    {
     "data": {
      "text/plain": [
       "array([5, 9, 2, 8, 8, 7, 8, 6, 5, 6, 8, 8, 9, 9, 4, 8])"
      ]
     },
     "execution_count": 21,
     "metadata": {},
     "output_type": "execute_result"
    }
   ],
   "source": [
    "arr.flatten()"
   ]
  },
  {
   "cell_type": "code",
   "execution_count": 22,
   "id": "b86f88ec-0631-4e89-9cbb-72d41e71e11b",
   "metadata": {},
   "outputs": [
    {
     "data": {
      "text/plain": [
       "array([[[5, 9, 2, 8]],\n",
       "\n",
       "       [[8, 7, 8, 6]],\n",
       "\n",
       "       [[5, 6, 8, 8]],\n",
       "\n",
       "       [[9, 9, 4, 8]]])"
      ]
     },
     "execution_count": 22,
     "metadata": {},
     "output_type": "execute_result"
    }
   ],
   "source": [
    "np.expand_dims(arr,axis=1)"
   ]
  },
  {
   "cell_type": "code",
   "execution_count": 23,
   "id": "a27d6b65-052e-46e3-be3e-36efe5d5c214",
   "metadata": {},
   "outputs": [
    {
     "data": {
      "text/plain": [
       "array([[[5, 9, 2, 8],\n",
       "        [8, 7, 8, 6],\n",
       "        [5, 6, 8, 8],\n",
       "        [9, 9, 4, 8]]])"
      ]
     },
     "execution_count": 23,
     "metadata": {},
     "output_type": "execute_result"
    }
   ],
   "source": [
    "np.expand_dims(arr,axis=0)"
   ]
  },
  {
   "cell_type": "code",
   "execution_count": 24,
   "id": "2589d177-27f0-4896-98ca-9d91c806074a",
   "metadata": {},
   "outputs": [],
   "source": [
    "data = np.array([[1] , [2] , [3]])"
   ]
  },
  {
   "cell_type": "code",
   "execution_count": 25,
   "id": "738ee901-fd6d-4662-856a-c82688eac157",
   "metadata": {},
   "outputs": [
    {
     "data": {
      "text/plain": [
       "array([1, 2, 3])"
      ]
     },
     "execution_count": 25,
     "metadata": {},
     "output_type": "execute_result"
    }
   ],
   "source": [
    "np.squeeze(data)"
   ]
  },
  {
   "cell_type": "code",
   "execution_count": 26,
   "id": "8783a323-5cbf-4e9e-842d-04cf37431555",
   "metadata": {},
   "outputs": [
    {
     "data": {
      "text/plain": [
       "array([1, 1, 1, 1, 2, 2, 2, 2, 3, 3, 3, 3])"
      ]
     },
     "execution_count": 26,
     "metadata": {},
     "output_type": "execute_result"
    }
   ],
   "source": [
    "np.repeat(data,4)"
   ]
  },
  {
   "cell_type": "code",
   "execution_count": 27,
   "id": "99454b99-02fa-4f49-825b-4c534e9be2a7",
   "metadata": {},
   "outputs": [
    {
     "data": {
      "text/plain": [
       "array([[2],\n",
       "       [3],\n",
       "       [1]])"
      ]
     },
     "execution_count": 27,
     "metadata": {},
     "output_type": "execute_result"
    }
   ],
   "source": [
    "np.roll(data,2)"
   ]
  },
  {
   "cell_type": "code",
   "execution_count": 28,
   "id": "1cea1576-3ac7-48f2-a31b-e151b7fab344",
   "metadata": {},
   "outputs": [
    {
     "data": {
      "text/plain": [
       "array([[1, 0, 0, 0],\n",
       "       [0, 2, 0, 0],\n",
       "       [0, 0, 3, 0],\n",
       "       [0, 0, 0, 4]])"
      ]
     },
     "execution_count": 28,
     "metadata": {},
     "output_type": "execute_result"
    }
   ],
   "source": [
    "np.diag(np.array([1,2,3,4]))"
   ]
  },
  {
   "cell_type": "code",
   "execution_count": 29,
   "id": "948cbbf1-dbf9-482a-8286-9ee984f5466d",
   "metadata": {},
   "outputs": [],
   "source": [
    "#Numpy - Binary Operators."
   ]
  },
  {
   "cell_type": "code",
   "execution_count": 30,
   "id": "51bc01fb-0f31-4829-a15d-d1ee0ec7629b",
   "metadata": {},
   "outputs": [],
   "source": [
    "arr1 = np.random.randint(1,10 , (3,4))\n",
    "arr2 = np.random.randint(1,10 , (3,4))"
   ]
  },
  {
   "cell_type": "code",
   "execution_count": 31,
   "id": "efd0a78d-5bf8-4150-a9bf-21ae6f49cfea",
   "metadata": {},
   "outputs": [
    {
     "data": {
      "text/plain": [
       "array([[1, 1, 2, 5],\n",
       "       [9, 5, 1, 9],\n",
       "       [2, 7, 6, 2]])"
      ]
     },
     "execution_count": 31,
     "metadata": {},
     "output_type": "execute_result"
    }
   ],
   "source": [
    "arr1"
   ]
  },
  {
   "cell_type": "code",
   "execution_count": 32,
   "id": "643edf83-b11b-4a35-b161-d7df41ea66fc",
   "metadata": {},
   "outputs": [
    {
     "data": {
      "text/plain": [
       "array([[6, 6, 2, 2],\n",
       "       [2, 9, 4, 9],\n",
       "       [1, 2, 2, 2]])"
      ]
     },
     "execution_count": 32,
     "metadata": {},
     "output_type": "execute_result"
    }
   ],
   "source": [
    "arr2"
   ]
  },
  {
   "cell_type": "code",
   "execution_count": 33,
   "id": "1e5e6e3c-8557-44e0-b3e8-8781d8af32ed",
   "metadata": {},
   "outputs": [
    {
     "data": {
      "text/plain": [
       "array([[ 7,  7,  4,  7],\n",
       "       [11, 14,  5, 18],\n",
       "       [ 3,  9,  8,  4]])"
      ]
     },
     "execution_count": 33,
     "metadata": {},
     "output_type": "execute_result"
    }
   ],
   "source": [
    "arr1+arr2"
   ]
  },
  {
   "cell_type": "code",
   "execution_count": 34,
   "id": "56f83d36-20c5-4cca-b83e-9e19ad53de21",
   "metadata": {},
   "outputs": [
    {
     "data": {
      "text/plain": [
       "array([[ 6,  6,  4, 10],\n",
       "       [18, 45,  4, 81],\n",
       "       [ 2, 14, 12,  4]])"
      ]
     },
     "execution_count": 34,
     "metadata": {},
     "output_type": "execute_result"
    }
   ],
   "source": [
    "arr1*arr2"
   ]
  },
  {
   "cell_type": "code",
   "execution_count": 35,
   "id": "e7946e89-60dd-408f-b512-77026934b531",
   "metadata": {},
   "outputs": [
    {
     "data": {
      "text/plain": [
       "array([[        1,         1,         4,        25],\n",
       "       [       81,   1953125,         1, 387420489],\n",
       "       [        2,        49,        36,         4]])"
      ]
     },
     "execution_count": 35,
     "metadata": {},
     "output_type": "execute_result"
    }
   ],
   "source": [
    "arr1**arr2"
   ]
  },
  {
   "cell_type": "code",
   "execution_count": 36,
   "id": "7d04b014-e3cc-4a37-aae3-c5ac857cba03",
   "metadata": {},
   "outputs": [
    {
     "data": {
      "text/plain": [
       "array([[ -2,  -2,  -3,  -6],\n",
       "       [-10,  -6,  -2, -10],\n",
       "       [ -3,  -8,  -7,  -3]])"
      ]
     },
     "execution_count": 36,
     "metadata": {},
     "output_type": "execute_result"
    }
   ],
   "source": [
    "~arr1"
   ]
  },
  {
   "cell_type": "code",
   "execution_count": 37,
   "id": "3ee92947-2e82-422d-969e-ae01879be1ee",
   "metadata": {},
   "outputs": [
    {
     "data": {
      "text/plain": [
       "array([[1, 1, 2, 5],\n",
       "       [9, 5, 1, 9],\n",
       "       [2, 7, 6, 2]])"
      ]
     },
     "execution_count": 37,
     "metadata": {},
     "output_type": "execute_result"
    }
   ],
   "source": [
    "arr1"
   ]
  },
  {
   "cell_type": "code",
   "execution_count": 38,
   "id": "e6f6db4d-ac1d-4f63-971a-e0f20c0b877d",
   "metadata": {},
   "outputs": [
    {
     "data": {
      "text/plain": [
       "array([[False, False, False,  True],\n",
       "       [ True, False, False, False],\n",
       "       [ True,  True,  True, False]])"
      ]
     },
     "execution_count": 38,
     "metadata": {},
     "output_type": "execute_result"
    }
   ],
   "source": [
    "arr1>arr2"
   ]
  },
  {
   "cell_type": "code",
   "execution_count": 39,
   "id": "624e19dd-78d3-4fb5-9514-a4ff46aeb74d",
   "metadata": {},
   "outputs": [],
   "source": [
    "#Numpy - String Functions."
   ]
  },
  {
   "cell_type": "code",
   "execution_count": 40,
   "id": "8faaa1ef-9b1f-479f-a0dc-8d27c3fe0750",
   "metadata": {},
   "outputs": [],
   "source": [
    "arr = np.array([\"sudh\" , \"kumar\"])"
   ]
  },
  {
   "cell_type": "code",
   "execution_count": 41,
   "id": "74358a6b-2458-4749-9903-3e1a3a827fc3",
   "metadata": {},
   "outputs": [
    {
     "data": {
      "text/plain": [
       "array(['sudh', 'kumar'], dtype='<U5')"
      ]
     },
     "execution_count": 41,
     "metadata": {},
     "output_type": "execute_result"
    }
   ],
   "source": [
    "arr"
   ]
  },
  {
   "cell_type": "code",
   "execution_count": 42,
   "id": "1779743f-7b1d-41ad-96b2-cfaeb3078bf4",
   "metadata": {},
   "outputs": [
    {
     "data": {
      "text/plain": [
       "array(['SUDH', 'KUMAR'], dtype='<U5')"
      ]
     },
     "execution_count": 42,
     "metadata": {},
     "output_type": "execute_result"
    }
   ],
   "source": [
    "np.char.upper(arr)"
   ]
  },
  {
   "cell_type": "code",
   "execution_count": 43,
   "id": "34f8233d-214d-410a-b08d-dacff01e1a6e",
   "metadata": {},
   "outputs": [
    {
     "data": {
      "text/plain": [
       "array(['Sudh', 'Kumar'], dtype='<U5')"
      ]
     },
     "execution_count": 43,
     "metadata": {},
     "output_type": "execute_result"
    }
   ],
   "source": [
    "np.char.capitalize(arr)"
   ]
  },
  {
   "cell_type": "code",
   "execution_count": 44,
   "id": "314c7462-56d4-40c8-85a0-2b401efa54cc",
   "metadata": {},
   "outputs": [
    {
     "data": {
      "text/plain": [
       "array(['Sudh', 'Kumar'], dtype='<U5')"
      ]
     },
     "execution_count": 44,
     "metadata": {},
     "output_type": "execute_result"
    }
   ],
   "source": [
    "np.char.title(arr)"
   ]
  },
  {
   "cell_type": "code",
   "execution_count": 45,
   "id": "3aff545e-4a0e-41af-9b98-bf6723d4f50f",
   "metadata": {},
   "outputs": [],
   "source": [
    "#Numpy - Mathematical Functions."
   ]
  },
  {
   "cell_type": "code",
   "execution_count": 46,
   "id": "455ded67-c925-497c-8438-2b3f2858ec1a",
   "metadata": {},
   "outputs": [
    {
     "data": {
      "text/plain": [
       "array([[1, 1, 2, 5],\n",
       "       [9, 5, 1, 9],\n",
       "       [2, 7, 6, 2]])"
      ]
     },
     "execution_count": 46,
     "metadata": {},
     "output_type": "execute_result"
    }
   ],
   "source": [
    "arr1"
   ]
  },
  {
   "cell_type": "code",
   "execution_count": 47,
   "id": "8d1d2239-75e6-4ba1-bcc0-10cb2f5106fa",
   "metadata": {},
   "outputs": [
    {
     "data": {
      "text/plain": [
       "array([[ 0.84147098,  0.84147098,  0.90929743, -0.95892427],\n",
       "       [ 0.41211849, -0.95892427,  0.84147098,  0.41211849],\n",
       "       [ 0.90929743,  0.6569866 , -0.2794155 ,  0.90929743]])"
      ]
     },
     "execution_count": 47,
     "metadata": {},
     "output_type": "execute_result"
    }
   ],
   "source": [
    "np.sin(arr1)"
   ]
  },
  {
   "cell_type": "code",
   "execution_count": 48,
   "id": "ea99db5b-f170-4ec3-97ea-598ed53c6723",
   "metadata": {},
   "outputs": [
    {
     "data": {
      "text/plain": [
       "array([[ 0.54030231,  0.54030231, -0.41614684,  0.28366219],\n",
       "       [-0.91113026,  0.28366219,  0.54030231, -0.91113026],\n",
       "       [-0.41614684,  0.75390225,  0.96017029, -0.41614684]])"
      ]
     },
     "execution_count": 48,
     "metadata": {},
     "output_type": "execute_result"
    }
   ],
   "source": [
    "np.cos(arr1)"
   ]
  },
  {
   "cell_type": "code",
   "execution_count": 49,
   "id": "58d1a4a1-27cd-4b75-9791-ba7c09fb4200",
   "metadata": {},
   "outputs": [
    {
     "data": {
      "text/plain": [
       "array([[0.        , 0.        , 0.30103   , 0.69897   ],\n",
       "       [0.95424251, 0.69897   , 0.        , 0.95424251],\n",
       "       [0.30103   , 0.84509804, 0.77815125, 0.30103   ]])"
      ]
     },
     "execution_count": 49,
     "metadata": {},
     "output_type": "execute_result"
    }
   ],
   "source": [
    "np.log10(arr1)"
   ]
  },
  {
   "cell_type": "code",
   "execution_count": 50,
   "id": "20ceaab0-b25f-403f-a898-37cd76351885",
   "metadata": {},
   "outputs": [
    {
     "data": {
      "text/plain": [
       "array([[2.71828183e+00, 2.71828183e+00, 7.38905610e+00, 1.48413159e+02],\n",
       "       [8.10308393e+03, 1.48413159e+02, 2.71828183e+00, 8.10308393e+03],\n",
       "       [7.38905610e+00, 1.09663316e+03, 4.03428793e+02, 7.38905610e+00]])"
      ]
     },
     "execution_count": 50,
     "metadata": {},
     "output_type": "execute_result"
    }
   ],
   "source": [
    "np.exp(arr1)"
   ]
  },
  {
   "cell_type": "code",
   "execution_count": 51,
   "id": "e80eb110-83e9-4283-b7ed-76879664bf09",
   "metadata": {},
   "outputs": [
    {
     "data": {
      "text/plain": [
       "array([[ 1,  1,  4, 25],\n",
       "       [81, 25,  1, 81],\n",
       "       [ 4, 49, 36,  4]])"
      ]
     },
     "execution_count": 51,
     "metadata": {},
     "output_type": "execute_result"
    }
   ],
   "source": [
    "np.power(arr1,2)"
   ]
  },
  {
   "cell_type": "code",
   "execution_count": 52,
   "id": "729e2ffc-6816-4e48-bd3c-929abf0369bc",
   "metadata": {},
   "outputs": [
    {
     "data": {
      "text/plain": [
       "4.166666666666667"
      ]
     },
     "execution_count": 52,
     "metadata": {},
     "output_type": "execute_result"
    }
   ],
   "source": [
    "np.mean(arr1\n",
    "       )"
   ]
  },
  {
   "cell_type": "code",
   "execution_count": 53,
   "id": "f4e5dbb6-23c1-4a21-b3eb-51c6c53aa348",
   "metadata": {},
   "outputs": [
    {
     "data": {
      "text/plain": [
       "3.5"
      ]
     },
     "execution_count": 53,
     "metadata": {},
     "output_type": "execute_result"
    }
   ],
   "source": [
    "np.median(arr1)"
   ]
  },
  {
   "cell_type": "code",
   "execution_count": 54,
   "id": "a6c7fd4e-980e-4101-9670-15509406ab8c",
   "metadata": {},
   "outputs": [
    {
     "data": {
      "text/plain": [
       "2.939198681424733"
      ]
     },
     "execution_count": 54,
     "metadata": {},
     "output_type": "execute_result"
    }
   ],
   "source": [
    "np.std(arr1)"
   ]
  },
  {
   "cell_type": "code",
   "execution_count": 55,
   "id": "17f4ea0f-346a-420e-9217-fb83d5d712fc",
   "metadata": {},
   "outputs": [
    {
     "data": {
      "text/plain": [
       "8.638888888888888"
      ]
     },
     "execution_count": 55,
     "metadata": {},
     "output_type": "execute_result"
    }
   ],
   "source": [
    "np.var(arr1)"
   ]
  },
  {
   "cell_type": "code",
   "execution_count": 56,
   "id": "e0dfc86c-e13e-4060-a6c7-d742e261c0fc",
   "metadata": {},
   "outputs": [
    {
     "data": {
      "text/plain": [
       "1"
      ]
     },
     "execution_count": 56,
     "metadata": {},
     "output_type": "execute_result"
    }
   ],
   "source": [
    "np.min(arr1)"
   ]
  },
  {
   "cell_type": "code",
   "execution_count": 57,
   "id": "e3b0f97e-4ae7-4719-9411-4896c21d3483",
   "metadata": {},
   "outputs": [
    {
     "data": {
      "text/plain": [
       "9"
      ]
     },
     "execution_count": 57,
     "metadata": {},
     "output_type": "execute_result"
    }
   ],
   "source": [
    "np.max(arr1)"
   ]
  },
  {
   "cell_type": "code",
   "execution_count": 58,
   "id": "057d2e66-ee89-4085-9dd7-c8dee8a6a4bc",
   "metadata": {},
   "outputs": [],
   "source": [
    "#Numpy - Arithmetic Operations."
   ]
  },
  {
   "cell_type": "code",
   "execution_count": 59,
   "id": "d7ac9320-442d-40a1-ad29-f382b4e1a431",
   "metadata": {},
   "outputs": [
    {
     "data": {
      "text/plain": [
       "array([[1, 1, 2, 5],\n",
       "       [9, 5, 1, 9],\n",
       "       [2, 7, 6, 2]])"
      ]
     },
     "execution_count": 59,
     "metadata": {},
     "output_type": "execute_result"
    }
   ],
   "source": [
    "arr1"
   ]
  },
  {
   "cell_type": "code",
   "execution_count": 60,
   "id": "09cdb5af-c909-42a8-8562-51e00eed77d0",
   "metadata": {},
   "outputs": [
    {
     "data": {
      "text/plain": [
       "array([[6, 6, 2, 2],\n",
       "       [2, 9, 4, 9],\n",
       "       [1, 2, 2, 2]])"
      ]
     },
     "execution_count": 60,
     "metadata": {},
     "output_type": "execute_result"
    }
   ],
   "source": [
    "arr2"
   ]
  },
  {
   "cell_type": "code",
   "execution_count": 61,
   "id": "0b922278-ab0a-4b60-a28c-48f7f6119352",
   "metadata": {},
   "outputs": [
    {
     "data": {
      "text/plain": [
       "array([[-5, -5,  0,  3],\n",
       "       [ 7, -4, -3,  0],\n",
       "       [ 1,  5,  4,  0]])"
      ]
     },
     "execution_count": 61,
     "metadata": {},
     "output_type": "execute_result"
    }
   ],
   "source": [
    "arr1-arr2"
   ]
  },
  {
   "cell_type": "code",
   "execution_count": 62,
   "id": "2f061c7e-ea2c-4fc5-b0eb-2fa7024233f1",
   "metadata": {},
   "outputs": [
    {
     "data": {
      "text/plain": [
       "array([[1, 1, 0, 1],\n",
       "       [1, 5, 1, 0],\n",
       "       [0, 1, 0, 0]])"
      ]
     },
     "execution_count": 62,
     "metadata": {},
     "output_type": "execute_result"
    }
   ],
   "source": [
    "np.mod(arr1,arr2)"
   ]
  },
  {
   "cell_type": "code",
   "execution_count": 63,
   "id": "b441a9e2-9605-4acb-83b6-84f04990bab5",
   "metadata": {},
   "outputs": [
    {
     "data": {
      "text/plain": [
       "array([[        1,         1,         4,        25],\n",
       "       [       81,   1953125,         1, 387420489],\n",
       "       [        2,        49,        36,         4]])"
      ]
     },
     "execution_count": 63,
     "metadata": {},
     "output_type": "execute_result"
    }
   ],
   "source": [
    "np.power(arr1,arr2)"
   ]
  },
  {
   "cell_type": "code",
   "execution_count": 64,
   "id": "ce2d6221-b851-4893-b301-cd3e7216e5c0",
   "metadata": {},
   "outputs": [
    {
     "data": {
      "text/plain": [
       "array([[1.        , 1.        , 1.41421356, 2.23606798],\n",
       "       [3.        , 2.23606798, 1.        , 3.        ],\n",
       "       [1.41421356, 2.64575131, 2.44948974, 1.41421356]])"
      ]
     },
     "execution_count": 64,
     "metadata": {},
     "output_type": "execute_result"
    }
   ],
   "source": [
    "np.sqrt(arr1)"
   ]
  },
  {
   "cell_type": "code",
   "execution_count": 65,
   "id": "e14d0569-f470-427d-af66-175ebd684352",
   "metadata": {},
   "outputs": [],
   "source": [
    "#Numpy - Statistical Functions."
   ]
  },
  {
   "cell_type": "code",
   "execution_count": 66,
   "id": "9a601ef4-7dc3-4a3f-ac25-aeada70a757c",
   "metadata": {},
   "outputs": [
    {
     "data": {
      "text/plain": [
       "array([[1, 1, 2, 5],\n",
       "       [9, 5, 1, 9],\n",
       "       [2, 7, 6, 2]])"
      ]
     },
     "execution_count": 66,
     "metadata": {},
     "output_type": "execute_result"
    }
   ],
   "source": [
    "arr1"
   ]
  },
  {
   "cell_type": "code",
   "execution_count": 67,
   "id": "4982f2cb-9315-42f9-b306-8b08c230dc83",
   "metadata": {},
   "outputs": [
    {
     "data": {
      "text/plain": [
       "4.166666666666667"
      ]
     },
     "execution_count": 67,
     "metadata": {},
     "output_type": "execute_result"
    }
   ],
   "source": [
    "np.mean(arr1)"
   ]
  },
  {
   "cell_type": "code",
   "execution_count": 68,
   "id": "9f678456-754a-4977-a5c9-b04564dafcf8",
   "metadata": {},
   "outputs": [
    {
     "data": {
      "text/plain": [
       "2.939198681424733"
      ]
     },
     "execution_count": 68,
     "metadata": {},
     "output_type": "execute_result"
    }
   ],
   "source": [
    "np.std(arr1)"
   ]
  },
  {
   "cell_type": "code",
   "execution_count": 69,
   "id": "e1ebc0cf-f7e1-4963-b140-95fb0c67f501",
   "metadata": {},
   "outputs": [
    {
     "data": {
      "text/plain": [
       "3.5"
      ]
     },
     "execution_count": 69,
     "metadata": {},
     "output_type": "execute_result"
    }
   ],
   "source": [
    "np.median(arr1)"
   ]
  },
  {
   "cell_type": "code",
   "execution_count": null,
   "id": "8ddf5a51-ed97-41ca-8f54-c1b2a3ed9737",
   "metadata": {},
   "outputs": [],
   "source": []
  }
 ],
 "metadata": {
  "kernelspec": {
   "display_name": "Python 3 (ipykernel)",
   "language": "python",
   "name": "python3"
  },
  "language_info": {
   "codemirror_mode": {
    "name": "ipython",
    "version": 3
   },
   "file_extension": ".py",
   "mimetype": "text/x-python",
   "name": "python",
   "nbconvert_exporter": "python",
   "pygments_lexer": "ipython3",
   "version": "3.9.13"
  }
 },
 "nbformat": 4,
 "nbformat_minor": 5
}
