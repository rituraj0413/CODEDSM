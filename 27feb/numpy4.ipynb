{
 "cells": [
  {
   "cell_type": "code",
   "execution_count": 42,
   "id": "0d8456af-fb51-4728-8b83-2603f52d6744",
   "metadata": {},
   "outputs": [],
   "source": [
    "#sort search & countingfunction"
   ]
  },
  {
   "cell_type": "code",
   "execution_count": 2,
   "id": "c42fe762-86ee-46c8-ad03-b7dad8f8f5ff",
   "metadata": {},
   "outputs": [],
   "source": [
    "import numpy as np"
   ]
  },
  {
   "cell_type": "code",
   "execution_count": 3,
   "id": "a5f0aa97-876a-48e2-ac3f-0dda7311bdf9",
   "metadata": {},
   "outputs": [],
   "source": [
    "arr = np.array([3,3,2,5,7,7,43,54,2]) "
   ]
  },
  {
   "cell_type": "code",
   "execution_count": 4,
   "id": "420d1826-da96-46ed-895e-57c21ef909e4",
   "metadata": {},
   "outputs": [
    {
     "data": {
      "text/plain": [
       "array([ 3,  3,  2,  5,  7,  7, 43, 54,  2])"
      ]
     },
     "execution_count": 4,
     "metadata": {},
     "output_type": "execute_result"
    }
   ],
   "source": [
    "arr"
   ]
  },
  {
   "cell_type": "code",
   "execution_count": 8,
   "id": "8bca1f97-a228-42e6-b321-59b8aabf0e36",
   "metadata": {},
   "outputs": [
    {
     "data": {
      "text/plain": [
       "array([ 2,  2,  3,  3,  5,  7,  7, 43, 54])"
      ]
     },
     "execution_count": 8,
     "metadata": {},
     "output_type": "execute_result"
    }
   ],
   "source": [
    "np.sort(arr)"
   ]
  },
  {
   "cell_type": "code",
   "execution_count": 10,
   "id": "ca51383d-c812-4346-ac46-fbed40b68b04",
   "metadata": {},
   "outputs": [
    {
     "data": {
      "text/plain": [
       "3"
      ]
     },
     "execution_count": 10,
     "metadata": {},
     "output_type": "execute_result"
    }
   ],
   "source": [
    "np.searchsorted(arr,5)"
   ]
  },
  {
   "cell_type": "code",
   "execution_count": 14,
   "id": "0e1bb88f-92e7-4b1d-a0b9-ebfeff87eaf5",
   "metadata": {},
   "outputs": [],
   "source": [
    "arr1 = np.array([23,2,3,66,5,0,0,0,0,0,0,0,0,2,76,76,5454,7])"
   ]
  },
  {
   "cell_type": "code",
   "execution_count": 15,
   "id": "8c3c4bfd-b490-4e08-860e-e5ff7db4fce1",
   "metadata": {},
   "outputs": [
    {
     "data": {
      "text/plain": [
       "10"
      ]
     },
     "execution_count": 15,
     "metadata": {},
     "output_type": "execute_result"
    }
   ],
   "source": [
    "np.count_nonzero(arr1)"
   ]
  },
  {
   "cell_type": "code",
   "execution_count": 16,
   "id": "3b190f56-64a3-473e-a6ad-53b45946a1e4",
   "metadata": {},
   "outputs": [
    {
     "ename": "AttributeError",
     "evalue": "module 'numpy' has no attribute 'count_zero'",
     "output_type": "error",
     "traceback": [
      "\u001b[0;31m---------------------------------------------------------------------------\u001b[0m",
      "\u001b[0;31mAttributeError\u001b[0m                            Traceback (most recent call last)",
      "\u001b[0;32m/var/folders/fd/hfyxn16n77v2xc3jhkw_7pjc0000gn/T/ipykernel_46126/3900394636.py\u001b[0m in \u001b[0;36m<module>\u001b[0;34m\u001b[0m\n\u001b[0;32m----> 1\u001b[0;31m \u001b[0mnp\u001b[0m\u001b[0;34m.\u001b[0m\u001b[0mcount_zero\u001b[0m\u001b[0;34m(\u001b[0m\u001b[0marr1\u001b[0m\u001b[0;34m)\u001b[0m\u001b[0;34m\u001b[0m\u001b[0;34m\u001b[0m\u001b[0m\n\u001b[0m",
      "\u001b[0;32m/opt/anaconda3/lib/python3.9/site-packages/numpy/__init__.py\u001b[0m in \u001b[0;36m__getattr__\u001b[0;34m(attr)\u001b[0m\n\u001b[1;32m    311\u001b[0m                 \u001b[0;32mreturn\u001b[0m \u001b[0mTester\u001b[0m\u001b[0;34m\u001b[0m\u001b[0;34m\u001b[0m\u001b[0m\n\u001b[1;32m    312\u001b[0m \u001b[0;34m\u001b[0m\u001b[0m\n\u001b[0;32m--> 313\u001b[0;31m             raise AttributeError(\"module {!r} has no attribute \"\n\u001b[0m\u001b[1;32m    314\u001b[0m                                  \"{!r}\".format(__name__, attr))\n\u001b[1;32m    315\u001b[0m \u001b[0;34m\u001b[0m\u001b[0m\n",
      "\u001b[0;31mAttributeError\u001b[0m: module 'numpy' has no attribute 'count_zero'"
     ]
    }
   ],
   "source": [
    "np.count_zero(arr1)"
   ]
  },
  {
   "cell_type": "code",
   "execution_count": 17,
   "id": "8f9e639a-5a59-4d6d-80c7-aa738d33b34e",
   "metadata": {},
   "outputs": [
    {
     "data": {
      "text/plain": [
       "(array([ 0,  1,  2,  3,  4, 13, 14, 15, 16, 17]),)"
      ]
     },
     "execution_count": 17,
     "metadata": {},
     "output_type": "execute_result"
    }
   ],
   "source": [
    "np.where(arr1 > 0)"
   ]
  },
  {
   "cell_type": "code",
   "execution_count": 18,
   "id": "a09766eb-a824-4390-951e-1bc98d962d54",
   "metadata": {},
   "outputs": [
    {
     "data": {
      "text/plain": [
       "array([  23,    3,   66,    5,   76,   76, 5454,    7])"
      ]
     },
     "execution_count": 18,
     "metadata": {},
     "output_type": "execute_result"
    }
   ],
   "source": [
    "np.extract(arr1 > 2,arr1)"
   ]
  },
  {
   "cell_type": "code",
   "execution_count": 19,
   "id": "9bfcbd79-dd1f-4a4a-b4b7-413370340540",
   "metadata": {},
   "outputs": [],
   "source": [
    "#numpy - byte swapping"
   ]
  },
  {
   "cell_type": "code",
   "execution_count": 20,
   "id": "5e09e3ba-2aeb-428e-af5a-e47144b935e5",
   "metadata": {},
   "outputs": [
    {
     "data": {
      "text/plain": [
       "array([  23,    2,    3,   66,    5,    0,    0,    0,    0,    0,    0,\n",
       "          0,    0,    2,   76,   76, 5454,    7])"
      ]
     },
     "execution_count": 20,
     "metadata": {},
     "output_type": "execute_result"
    }
   ],
   "source": [
    "arr1"
   ]
  },
  {
   "cell_type": "code",
   "execution_count": 23,
   "id": "3d6dc6cd-b441-4b2e-b82c-d20f19d3cc7d",
   "metadata": {},
   "outputs": [
    {
     "data": {
      "text/plain": [
       "array([ 216172782113783808,  216172782113783808,  144115188075855872,\n",
       "        360287970189639680,  504403158265495552,  504403158265495552,\n",
       "       3098476543630901248, 3891110078048108544,  144115188075855872])"
      ]
     },
     "execution_count": 23,
     "metadata": {},
     "output_type": "execute_result"
    }
   ],
   "source": [
    "arr.byteswap()"
   ]
  },
  {
   "cell_type": "code",
   "execution_count": 24,
   "id": "611fae7c-305c-4322-b6f9-e2d829b6e847",
   "metadata": {},
   "outputs": [
    {
     "data": {
      "text/plain": [
       "array([ 3,  3,  2,  5,  7,  7, 43, 54,  2])"
      ]
     },
     "execution_count": 24,
     "metadata": {},
     "output_type": "execute_result"
    }
   ],
   "source": [
    "arr"
   ]
  },
  {
   "cell_type": "code",
   "execution_count": 25,
   "id": "7ab4226c-7255-46c1-be8d-712ea9b4e382",
   "metadata": {},
   "outputs": [
    {
     "data": {
      "text/plain": [
       "array([  23,    2,    3,   66,    5,    0,    0,    0,    0,    0,    0,\n",
       "          0,    0,    2,   76,   76, 5454,    7])"
      ]
     },
     "execution_count": 25,
     "metadata": {},
     "output_type": "execute_result"
    }
   ],
   "source": [
    "arr1"
   ]
  },
  {
   "cell_type": "code",
   "execution_count": 27,
   "id": "93240b7a-e2d2-47cb-8edf-37c133a5e87b",
   "metadata": {},
   "outputs": [
    {
     "data": {
      "text/plain": [
       "array([ 216172782113783808,  216172782113783808,  144115188075855872,\n",
       "        360287970189639680,  504403158265495552,  504403158265495552,\n",
       "       3098476543630901248, 3891110078048108544,  144115188075855872])"
      ]
     },
     "execution_count": 27,
     "metadata": {},
     "output_type": "execute_result"
    }
   ],
   "source": [
    "arr.byteswap(True)"
   ]
  },
  {
   "cell_type": "code",
   "execution_count": 28,
   "id": "56af72eb-b935-45df-8641-5f04e358c71f",
   "metadata": {},
   "outputs": [],
   "source": [
    "#numpy copies and views"
   ]
  },
  {
   "cell_type": "code",
   "execution_count": 30,
   "id": "7c52bb00-7225-4e8c-8513-e8753918914d",
   "metadata": {},
   "outputs": [],
   "source": [
    "a= np.copy(arr1)"
   ]
  },
  {
   "cell_type": "code",
   "execution_count": 31,
   "id": "10295db3-2ffb-4edc-ac00-8fa7852e7bfc",
   "metadata": {},
   "outputs": [],
   "source": [
    "b= arr1.view()"
   ]
  },
  {
   "cell_type": "code",
   "execution_count": 32,
   "id": "e74d0053-15fe-4a66-8b7b-30c09b006e34",
   "metadata": {},
   "outputs": [
    {
     "data": {
      "text/plain": [
       "array([  23,    2,    3,   66,    5,    0,    0,    0,    0,    0,    0,\n",
       "          0,    0,    2,   76,   76, 5454,    7])"
      ]
     },
     "execution_count": 32,
     "metadata": {},
     "output_type": "execute_result"
    }
   ],
   "source": [
    "b"
   ]
  },
  {
   "cell_type": "code",
   "execution_count": 33,
   "id": "551d0aef-3e65-4185-9353-616e87f81a9d",
   "metadata": {},
   "outputs": [
    {
     "data": {
      "text/plain": [
       "array([  23,    2,    3,   66,    5,    0,    0,    0,    0,    0,    0,\n",
       "          0,    0,    2,   76,   76, 5454,    7])"
      ]
     },
     "execution_count": 33,
     "metadata": {},
     "output_type": "execute_result"
    }
   ],
   "source": [
    "arr1"
   ]
  },
  {
   "cell_type": "code",
   "execution_count": 34,
   "id": "75bda121-c0ea-4140-a19e-0c8412929164",
   "metadata": {},
   "outputs": [],
   "source": [
    "#numpy - linear algebra"
   ]
  },
  {
   "cell_type": "code",
   "execution_count": 35,
   "id": "0d217fcf-3220-40fc-a6a5-c5ad4c95fc29",
   "metadata": {},
   "outputs": [],
   "source": [
    "arr1 =np.random.randint([[2,3], [4,5]])"
   ]
  },
  {
   "cell_type": "code",
   "execution_count": 36,
   "id": "6c0def13-cee3-4bd7-bd23-abcf23533f6c",
   "metadata": {},
   "outputs": [],
   "source": [
    "arr2=np.random.randint([[6,5], [2,5]])"
   ]
  },
  {
   "cell_type": "code",
   "execution_count": 37,
   "id": "d46bc11f-c011-447f-af12-a6da111a2e8c",
   "metadata": {},
   "outputs": [
    {
     "data": {
      "text/plain": [
       "array([[1, 2],\n",
       "       [0, 4]])"
      ]
     },
     "execution_count": 37,
     "metadata": {},
     "output_type": "execute_result"
    }
   ],
   "source": [
    "arr1"
   ]
  },
  {
   "cell_type": "code",
   "execution_count": 38,
   "id": "96329f8c-b7d5-4a24-956c-33efd2b6ae5f",
   "metadata": {},
   "outputs": [
    {
     "data": {
      "text/plain": [
       "array([[1, 4],\n",
       "       [1, 0]])"
      ]
     },
     "execution_count": 38,
     "metadata": {},
     "output_type": "execute_result"
    }
   ],
   "source": [
    "arr2"
   ]
  },
  {
   "cell_type": "code",
   "execution_count": 40,
   "id": "9571a2be-901b-4125-99af-7adc8421903e",
   "metadata": {},
   "outputs": [
    {
     "data": {
      "text/plain": [
       "array([[3, 4],\n",
       "       [4, 0]])"
      ]
     },
     "execution_count": 40,
     "metadata": {},
     "output_type": "execute_result"
    }
   ],
   "source": [
    "np.dot(arr1,arr2)"
   ]
  },
  {
   "cell_type": "code",
   "execution_count": 41,
   "id": "d753462a-cf1c-45e6-91ad-1dadcf76dc21",
   "metadata": {},
   "outputs": [
    {
     "data": {
      "text/plain": [
       "array([[3, 4],\n",
       "       [4, 0]])"
      ]
     },
     "execution_count": 41,
     "metadata": {},
     "output_type": "execute_result"
    }
   ],
   "source": [
    "arr1@arr2"
   ]
  },
  {
   "cell_type": "code",
   "execution_count": null,
   "id": "b460827a-b2ec-42fc-b68a-7ad13669bd53",
   "metadata": {},
   "outputs": [],
   "source": []
  }
 ],
 "metadata": {
  "kernelspec": {
   "display_name": "Python 3 (ipykernel)",
   "language": "python",
   "name": "python3"
  },
  "language_info": {
   "codemirror_mode": {
    "name": "ipython",
    "version": 3
   },
   "file_extension": ".py",
   "mimetype": "text/x-python",
   "name": "python",
   "nbconvert_exporter": "python",
   "pygments_lexer": "ipython3",
   "version": "3.9.13"
  }
 },
 "nbformat": 4,
 "nbformat_minor": 5
}
