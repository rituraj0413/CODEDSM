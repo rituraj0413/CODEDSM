{
 "cells": [
  {
   "cell_type": "code",
   "execution_count": 7,
   "id": "2ee91bbf-f4ed-4b75-b947-cb063f513a75",
   "metadata": {},
   "outputs": [],
   "source": [
    "import multiprocessing\n",
    "\n",
    "def test() :\n",
    "    print(\"this is my multirocessing program\")\n",
    "    \n",
    "    if __name__ == '__main__':\n",
    "         \n",
    "        m = multiprocessing.Process(target=test)\n",
    "        print(\"this is my multiprocessing program\")\n",
    "        m.start()\n",
    "        m.join()\n",
    "     \n"
   ]
  },
  {
   "cell_type": "code",
   "execution_count": 4,
   "id": "1cf2aec5-5a4f-482c-bc74-7fce85d1f276",
   "metadata": {},
   "outputs": [
    {
     "name": "stdout",
     "output_type": "stream",
     "text": [
      "this is my multirocessing program\n",
      "this is my multiprocessing program\n"
     ]
    },
    {
     "name": "stderr",
     "output_type": "stream",
     "text": [
      "Traceback (most recent call last):\n",
      "  File \"<string>\", line 1, in <module>\n",
      "  File \"/opt/anaconda3/lib/python3.9/multiprocessing/spawn.py\", line 116, in spawn_main\n",
      "    exitcode = _main(fd, parent_sentinel)\n",
      "  File \"/opt/anaconda3/lib/python3.9/multiprocessing/spawn.py\", line 126, in _main\n",
      "    self = reduction.pickle.load(from_parent)\n",
      "AttributeError: Can't get attribute 'test' on <module '__main__' (built-in)>\n"
     ]
    }
   ],
   "source": [
    "\n",
    "test()\n"
   ]
  },
  {
   "cell_type": "code",
   "execution_count": null,
   "id": "ef81c170-b521-45d2-91d5-f089d2a22687",
   "metadata": {},
   "outputs": [],
   "source": [
    "\n",
    "def square(n):\n",
    "    return n**2\n",
    "if __name__ == '__main__':\n",
    "    with multiprocessing.Pool(processes=5) as pool :\n",
    "        out =pool.map(square , [2,3,4,5,5])\n",
    "        print(out)"
   ]
  },
  {
   "cell_type": "code",
   "execution_count": null,
   "id": "1e6175e0-36a7-4c8d-a3b7-c336b5563fd3",
   "metadata": {},
   "outputs": [],
   "source": [
    "\n",
    "print('jejfjdsd')"
   ]
  },
  {
   "cell_type": "code",
   "execution_count": null,
   "id": "d9cc9a54-b44e-4a26-8a2c-954b921045a3",
   "metadata": {},
   "outputs": [],
   "source": [
    "\n",
    "\n",
    "\n",
    "import multiprocessing\n",
    "\n",
    "def producer(q):\n",
    "    for i in [\"ritu\" , \"raj\", \"pwskills\" , \"naik\"] :\n",
    "        q.put(i)\n",
    "    \n",
    "def consume(q):  \n",
    "    while True :\n",
    "        item =q.get()\n",
    "        if item is None :\n",
    "            break\n",
    "        print(item)\n",
    "        \n",
    "if __name__ == '__main__':\n",
    "    queue =multiprocessing.Queue()\n",
    "    m1 = multiprocessing.Process(target=producer , args= (queue,))\n",
    "    m2 = multiprocessing.Process(target=consume , args=(queue,) )\n",
    "    m1.start()\n",
    "    m2.start()\n",
    "    queue.put(\"xyz\")\n",
    "    m1.join()\n",
    "    m2.join()\n",
    "    "
   ]
  },
  {
   "cell_type": "code",
   "execution_count": null,
   "id": "bb08352e-c39c-4d6e-82e5-86025028817c",
   "metadata": {},
   "outputs": [],
   "source": []
  },
  {
   "cell_type": "code",
   "execution_count": 11,
   "id": "2841c721-3997-447d-930a-3b7e3356074e",
   "metadata": {},
   "outputs": [],
   "source": [
    "import multiprocessing\n",
    "\n",
    "def sender(conn , msg) :\n",
    "    for i in msg :\n",
    "        conn.sebd(i)\n",
    "    conn.close(i)\n",
    "    \n",
    "def recieve(conn) :\n",
    "    while true:\n",
    "        try:\n",
    "            msg= conn.recv()\n",
    "        except Exception as e :\n",
    "            print(e)\n",
    "            break \n",
    "        print(msg)\n",
    "        \n",
    "if __name__ == '__main__':    \n",
    "    msg = [\"my name is ritu\", \"this is my student\" , \"i am taking care oof calass\"]\n",
    "\n"
   ]
  },
  {
   "cell_type": "code",
   "execution_count": 3,
   "id": "266d633a-d21e-49db-a56a-3e4877665fcf",
   "metadata": {},
   "outputs": [
    {
     "name": "stdout",
     "output_type": "stream",
     "text": [
      "bbb\n"
     ]
    }
   ],
   "source": [
    "print('bbb')"
   ]
  },
  {
   "cell_type": "code",
   "execution_count": null,
   "id": "7ceacc97-f5b1-41ad-ae9d-3e7d646bbc1b",
   "metadata": {},
   "outputs": [],
   "source": []
  }
 ],
 "metadata": {
  "kernelspec": {
   "display_name": "Python 3 (ipykernel)",
   "language": "python",
   "name": "python3"
  },
  "language_info": {
   "codemirror_mode": {
    "name": "ipython",
    "version": 3
   },
   "file_extension": ".py",
   "mimetype": "text/x-python",
   "name": "python",
   "nbconvert_exporter": "python",
   "pygments_lexer": "ipython3",
   "version": "3.9.13"
  }
 },
 "nbformat": 4,
 "nbformat_minor": 5
}
