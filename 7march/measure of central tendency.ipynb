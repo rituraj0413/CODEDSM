{
 "cells": [
  {
   "cell_type": "markdown",
   "id": "d35e6c2b-6176-4c26-b133-f958f831937d",
   "metadata": {},
   "source": [
    "measure of central tendency"
   ]
  },
  {
   "cell_type": "code",
   "execution_count": 1,
   "id": "055947a7-c6dd-4c2a-acce-c7ddf2433984",
   "metadata": {},
   "outputs": [],
   "source": [
    "## MEAN AVERAGE"
   ]
  },
  {
   "cell_type": "code",
   "execution_count": 2,
   "id": "10fda52f-ee08-43e8-b882-68b915bfa952",
   "metadata": {},
   "outputs": [],
   "source": [
    "age = [12,32,4,3,54,3,23,34]"
   ]
  },
  {
   "cell_type": "code",
   "execution_count": 3,
   "id": "d8de9792-92dc-4219-bf48-a02b984c0ba4",
   "metadata": {},
   "outputs": [
    {
     "data": {
      "text/plain": [
       "20.625"
      ]
     },
     "execution_count": 3,
     "metadata": {},
     "output_type": "execute_result"
    }
   ],
   "source": [
    "(12+32+4+3+54+3+23+34)/8"
   ]
  },
  {
   "cell_type": "code",
   "execution_count": 4,
   "id": "68b774e4-39ec-4d6b-9882-eb57eedb326e",
   "metadata": {},
   "outputs": [
    {
     "data": {
      "text/plain": [
       "20.625"
      ]
     },
     "execution_count": 4,
     "metadata": {},
     "output_type": "execute_result"
    }
   ],
   "source": [
    "import numpy as np\n",
    "np.mean(age)"
   ]
  },
  {
   "cell_type": "code",
   "execution_count": 7,
   "id": "a15095fc-3870-4c18-8917-ae215ce8d798",
   "metadata": {},
   "outputs": [],
   "source": [
    "weights= [23,34,65,77,78,98,1000]"
   ]
  },
  {
   "cell_type": "code",
   "execution_count": 8,
   "id": "853d0689-c03c-4142-9227-0a883d1b562e",
   "metadata": {},
   "outputs": [
    {
     "data": {
      "text/plain": [
       "196.42857142857142"
      ]
     },
     "execution_count": 8,
     "metadata": {},
     "output_type": "execute_result"
    }
   ],
   "source": [
    "np.mean(weights)"
   ]
  },
  {
   "cell_type": "code",
   "execution_count": null,
   "id": "89c4a5e8-c25a-4fb8-a4d6-af4ca756ed19",
   "metadata": {},
   "outputs": [],
   "source": []
  },
  {
   "cell_type": "code",
   "execution_count": 9,
   "id": "370365a2-6314-4a9b-8244-eb4af5101812",
   "metadata": {},
   "outputs": [],
   "source": [
    "## MEDIAN"
   ]
  },
  {
   "cell_type": "code",
   "execution_count": 10,
   "id": "5fa078df-36be-49d5-90c6-1acf439e8759",
   "metadata": {},
   "outputs": [
    {
     "data": {
      "text/plain": [
       "77.0"
      ]
     },
     "execution_count": 10,
     "metadata": {},
     "output_type": "execute_result"
    }
   ],
   "source": [
    "np.median(weights)"
   ]
  },
  {
   "cell_type": "code",
   "execution_count": 11,
   "id": "3aa51b93-b204-4458-a1b6-e726c60154ae",
   "metadata": {},
   "outputs": [],
   "source": [
    "##mode"
   ]
  },
  {
   "cell_type": "code",
   "execution_count": 12,
   "id": "d37bb8b9-347b-42cb-9018-215130d72274",
   "metadata": {},
   "outputs": [],
   "source": [
    "from scipy import stats"
   ]
  },
  {
   "cell_type": "code",
   "execution_count": 13,
   "id": "2c1ff168-551d-49df-ac36-e730fa3c7e91",
   "metadata": {},
   "outputs": [
    {
     "name": "stderr",
     "output_type": "stream",
     "text": [
      "/var/folders/fd/hfyxn16n77v2xc3jhkw_7pjc0000gn/T/ipykernel_15308/4197893964.py:1: FutureWarning: Unlike other reduction functions (e.g. `skew`, `kurtosis`), the default behavior of `mode` typically preserves the axis it acts along. In SciPy 1.11.0, this behavior will change: the default value of `keepdims` will become False, the `axis` over which the statistic is taken will be eliminated, and the value None will no longer be accepted. Set `keepdims` to True or False to avoid this warning.\n",
      "  stats.mode(weights)\n"
     ]
    },
    {
     "data": {
      "text/plain": [
       "ModeResult(mode=array([23]), count=array([1]))"
      ]
     },
     "execution_count": 13,
     "metadata": {},
     "output_type": "execute_result"
    }
   ],
   "source": [
    "stats.mode(weights)"
   ]
  },
  {
   "cell_type": "code",
   "execution_count": 14,
   "id": "8c89f218-aa11-4eb2-9f6c-ba725ffe5392",
   "metadata": {},
   "outputs": [
    {
     "name": "stderr",
     "output_type": "stream",
     "text": [
      "/var/folders/fd/hfyxn16n77v2xc3jhkw_7pjc0000gn/T/ipykernel_15308/2474845003.py:1: FutureWarning: Unlike other reduction functions (e.g. `skew`, `kurtosis`), the default behavior of `mode` typically preserves the axis it acts along. In SciPy 1.11.0, this behavior will change: the default value of `keepdims` will become False, the `axis` over which the statistic is taken will be eliminated, and the value None will no longer be accepted. Set `keepdims` to True or False to avoid this warning.\n",
      "  stats.mode(age)\n"
     ]
    },
    {
     "data": {
      "text/plain": [
       "ModeResult(mode=array([3]), count=array([2]))"
      ]
     },
     "execution_count": 14,
     "metadata": {},
     "output_type": "execute_result"
    }
   ],
   "source": [
    "stats.mode(age)"
   ]
  },
  {
   "cell_type": "code",
   "execution_count": null,
   "id": "a6f14e92-9751-475b-9e6d-ba28987ae470",
   "metadata": {},
   "outputs": [],
   "source": []
  }
 ],
 "metadata": {
  "kernelspec": {
   "display_name": "Python 3 (ipykernel)",
   "language": "python",
   "name": "python3"
  },
  "language_info": {
   "codemirror_mode": {
    "name": "ipython",
    "version": 3
   },
   "file_extension": ".py",
   "mimetype": "text/x-python",
   "name": "python",
   "nbconvert_exporter": "python",
   "pygments_lexer": "ipython3",
   "version": "3.9.13"
  }
 },
 "nbformat": 4,
 "nbformat_minor": 5
}
