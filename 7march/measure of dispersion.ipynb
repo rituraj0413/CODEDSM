{
 "cells": [
  {
   "cell_type": "markdown",
   "id": "001024ad-a74c-4537-bc25-6e677a5a0286",
   "metadata": {},
   "source": [
    "Measure of dispersion"
   ]
  },
  {
   "cell_type": "code",
   "execution_count": 1,
   "id": "f1f1f922-10de-4eaf-8cff-7fefc456ac97",
   "metadata": {},
   "outputs": [],
   "source": [
    "ages_lst = [23,44,32,54,65,32,76,74]"
   ]
  },
  {
   "cell_type": "code",
   "execution_count": 2,
   "id": "41ac08f9-01b9-4a6e-836c-1213bac843df",
   "metadata": {},
   "outputs": [],
   "source": [
    "import numpy as np"
   ]
  },
  {
   "cell_type": "code",
   "execution_count": 4,
   "id": "fbfb2345-34cf-4ab0-b278-c293c00c5ffc",
   "metadata": {},
   "outputs": [],
   "source": [
    "mean=np.mean(ages_lst)"
   ]
  },
  {
   "cell_type": "code",
   "execution_count": 5,
   "id": "9acaec7b-30b8-48da-a701-ca2c94d58ad9",
   "metadata": {},
   "outputs": [
    {
     "data": {
      "text/plain": [
       "50.0"
      ]
     },
     "execution_count": 5,
     "metadata": {},
     "output_type": "execute_result"
    }
   ],
   "source": [
    "mean"
   ]
  },
  {
   "cell_type": "code",
   "execution_count": 8,
   "id": "2829b341-c6c1-4e91-b0c1-53fad92d7912",
   "metadata": {},
   "outputs": [
    {
     "data": {
      "text/plain": [
       "363.25"
      ]
     },
     "execution_count": 8,
     "metadata": {},
     "output_type": "execute_result"
    }
   ],
   "source": [
    "var= np.var(ages_lst)\n",
    "var"
   ]
  },
  {
   "cell_type": "code",
   "execution_count": 7,
   "id": "fb9ea95c-9cd1-485c-850b-860af609e2c5",
   "metadata": {},
   "outputs": [
    {
     "data": {
      "text/plain": [
       "363.25"
      ]
     },
     "execution_count": 7,
     "metadata": {},
     "output_type": "execute_result"
    }
   ],
   "source": [
    "var"
   ]
  },
  {
   "cell_type": "code",
   "execution_count": 12,
   "id": "09de50ba-aca4-4561-93d7-78f3141ea78b",
   "metadata": {},
   "outputs": [
    {
     "data": {
      "text/plain": [
       "19.059118552545918"
      ]
     },
     "execution_count": 12,
     "metadata": {},
     "output_type": "execute_result"
    }
   ],
   "source": [
    "std=np.std(ages_lst)\n",
    "std"
   ]
  },
  {
   "cell_type": "code",
   "execution_count": 15,
   "id": "7335cc5e-14dd-4c28-8a39-0c824e92eb08",
   "metadata": {},
   "outputs": [],
   "source": [
    "import pandas as pd"
   ]
  },
  {
   "cell_type": "code",
   "execution_count": 16,
   "id": "2db2d307-27ee-4ae0-8c1a-12f8d71afa60",
   "metadata": {},
   "outputs": [],
   "source": [
    "data=[[10,12,13],[34,23,54],[34,54,32]]"
   ]
  },
  {
   "cell_type": "code",
   "execution_count": 21,
   "id": "17d46251-3fe1-4a67-b082-59bf5def3683",
   "metadata": {},
   "outputs": [],
   "source": [
    "df=pd.DataFrame(data,columns=[\"A\",\"B\",\"C\"])"
   ]
  },
  {
   "cell_type": "code",
   "execution_count": 22,
   "id": "bd3498c3-bca8-4162-83d6-6a12a7849dbd",
   "metadata": {},
   "outputs": [
    {
     "data": {
      "text/html": [
       "<div>\n",
       "<style scoped>\n",
       "    .dataframe tbody tr th:only-of-type {\n",
       "        vertical-align: middle;\n",
       "    }\n",
       "\n",
       "    .dataframe tbody tr th {\n",
       "        vertical-align: top;\n",
       "    }\n",
       "\n",
       "    .dataframe thead th {\n",
       "        text-align: right;\n",
       "    }\n",
       "</style>\n",
       "<table border=\"1\" class=\"dataframe\">\n",
       "  <thead>\n",
       "    <tr style=\"text-align: right;\">\n",
       "      <th></th>\n",
       "      <th>A</th>\n",
       "      <th>B</th>\n",
       "      <th>C</th>\n",
       "    </tr>\n",
       "  </thead>\n",
       "  <tbody>\n",
       "    <tr>\n",
       "      <th>0</th>\n",
       "      <td>10</td>\n",
       "      <td>12</td>\n",
       "      <td>13</td>\n",
       "    </tr>\n",
       "    <tr>\n",
       "      <th>1</th>\n",
       "      <td>34</td>\n",
       "      <td>23</td>\n",
       "      <td>54</td>\n",
       "    </tr>\n",
       "    <tr>\n",
       "      <th>2</th>\n",
       "      <td>34</td>\n",
       "      <td>54</td>\n",
       "      <td>32</td>\n",
       "    </tr>\n",
       "  </tbody>\n",
       "</table>\n",
       "</div>"
      ],
      "text/plain": [
       "    A   B   C\n",
       "0  10  12  13\n",
       "1  34  23  54\n",
       "2  34  54  32"
      ]
     },
     "execution_count": 22,
     "metadata": {},
     "output_type": "execute_result"
    }
   ],
   "source": [
    "df"
   ]
  },
  {
   "cell_type": "code",
   "execution_count": 23,
   "id": "7c0e2a8e-22ab-492d-8cb8-c297d8a82a88",
   "metadata": {},
   "outputs": [
    {
     "data": {
      "text/plain": [
       "A    192.000000\n",
       "B    474.333333\n",
       "C    421.000000\n",
       "dtype: float64"
      ]
     },
     "execution_count": 23,
     "metadata": {},
     "output_type": "execute_result"
    }
   ],
   "source": [
    "df.var()"
   ]
  },
  {
   "cell_type": "code",
   "execution_count": 25,
   "id": "d415991b-ba88-4532-be20-eac089741af0",
   "metadata": {},
   "outputs": [
    {
     "data": {
      "text/plain": [
       "A    192.000000\n",
       "B    474.333333\n",
       "C    421.000000\n",
       "dtype: float64"
      ]
     },
     "execution_count": 25,
     "metadata": {},
     "output_type": "execute_result"
    }
   ],
   "source": [
    "##row vise\n",
    "df.var(axis=0)"
   ]
  },
  {
   "cell_type": "code",
   "execution_count": 26,
   "id": "728f641f-7aec-4d8d-a9bc-bafab20ebbca",
   "metadata": {},
   "outputs": [
    {
     "data": {
      "text/plain": [
       "0      2.333333\n",
       "1    247.000000\n",
       "2    148.000000\n",
       "dtype: float64"
      ]
     },
     "execution_count": 26,
     "metadata": {},
     "output_type": "execute_result"
    }
   ],
   "source": [
    "df.var(axis=1)"
   ]
  },
  {
   "cell_type": "code",
   "execution_count": null,
   "id": "d355f532-d46a-4448-b580-c89ea7479181",
   "metadata": {},
   "outputs": [],
   "source": []
  }
 ],
 "metadata": {
  "kernelspec": {
   "display_name": "Python 3 (ipykernel)",
   "language": "python",
   "name": "python3"
  },
  "language_info": {
   "codemirror_mode": {
    "name": "ipython",
    "version": 3
   },
   "file_extension": ".py",
   "mimetype": "text/x-python",
   "name": "python",
   "nbconvert_exporter": "python",
   "pygments_lexer": "ipython3",
   "version": "3.9.13"
  }
 },
 "nbformat": 4,
 "nbformat_minor": 5
}
