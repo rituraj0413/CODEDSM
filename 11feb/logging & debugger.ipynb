{
 "cells": [
  {
   "cell_type": "code",
   "execution_count": 4,
   "id": "a44db4be-92a8-491e-a12e-208a4e52d286",
   "metadata": {},
   "outputs": [
    {
     "name": "stdout",
     "output_type": "stream",
     "text": [
      "this is my print stmt\n"
     ]
    }
   ],
   "source": [
    "print(\"this is my print stmt\")"
   ]
  },
  {
   "cell_type": "code",
   "execution_count": 6,
   "id": "30f94e26-1750-4665-87b2-f522edaa0f51",
   "metadata": {},
   "outputs": [],
   "source": [
    "import logging"
   ]
  },
  {
   "cell_type": "code",
   "execution_count": 23,
   "id": "e569e88f-6952-4a91-aafa-17379ff47248",
   "metadata": {},
   "outputs": [],
   "source": [
    "logging.basicConfig(filename= \"test.log\", level = logging.INFO)"
   ]
  },
  {
   "cell_type": "code",
   "execution_count": 8,
   "id": "7b6ed363-e55f-4a5a-824c-eb418fc19707",
   "metadata": {},
   "outputs": [],
   "source": [
    "logging.info(\"this is my line of execution \")"
   ]
  },
  {
   "cell_type": "code",
   "execution_count": 24,
   "id": "de449dae-57a4-4a17-87ae-a42ca2938248",
   "metadata": {},
   "outputs": [],
   "source": [
    "logging.error(\"this is my error\")"
   ]
  },
  {
   "cell_type": "code",
   "execution_count": 10,
   "id": "184bbf40-8bc9-4306-8ccf-a3d12ecd2679",
   "metadata": {},
   "outputs": [],
   "source": [
    "logging.critical(\"this is my critical\")"
   ]
  },
  {
   "cell_type": "code",
   "execution_count": 17,
   "id": "063b91ae-f642-4612-b695-3922212d523f",
   "metadata": {},
   "outputs": [],
   "source": [
    "logging.debug(\"this is my info debug\")"
   ]
  },
  {
   "cell_type": "code",
   "execution_count": 18,
   "id": "65b0bd16-abcd-49d1-b63f-afc7ed14fec6",
   "metadata": {},
   "outputs": [
    {
     "ename": "AttributeError",
     "evalue": "module 'logging' has no attribute 'noset'",
     "output_type": "error",
     "traceback": [
      "\u001b[0;31m---------------------------------------------------------------------------\u001b[0m",
      "\u001b[0;31mAttributeError\u001b[0m                            Traceback (most recent call last)",
      "\u001b[0;32m/var/folders/fd/hfyxn16n77v2xc3jhkw_7pjc0000gn/T/ipykernel_27004/145785801.py\u001b[0m in \u001b[0;36m<module>\u001b[0;34m\u001b[0m\n\u001b[0;32m----> 1\u001b[0;31m \u001b[0mlogging\u001b[0m\u001b[0;34m.\u001b[0m\u001b[0mnoset\u001b[0m\u001b[0;34m(\u001b[0m\u001b[0;34m\"this is my noset\"\u001b[0m\u001b[0;34m)\u001b[0m\u001b[0;34m\u001b[0m\u001b[0;34m\u001b[0m\u001b[0m\n\u001b[0m",
      "\u001b[0;31mAttributeError\u001b[0m: module 'logging' has no attribute 'noset'"
     ]
    }
   ],
   "source": [
    "logging.noset(\"this is my noset\")"
   ]
  },
  {
   "cell_type": "code",
   "execution_count": 20,
   "id": "4a0c1242-558f-4892-9edb-5013d59958e1",
   "metadata": {},
   "outputs": [],
   "source": [
    "logging.shutdown()"
   ]
  },
  {
   "cell_type": "code",
   "execution_count": 19,
   "id": "a92e01bd-4b7f-4757-9ccf-89b4153ac30f",
   "metadata": {},
   "outputs": [
    {
     "ename": "SyntaxError",
     "evalue": "invalid syntax (1860081267.py, line 1)",
     "output_type": "error",
     "traceback": [
      "\u001b[0;36m  File \u001b[0;32m\"/var/folders/fd/hfyxn16n77v2xc3jhkw_7pjc0000gn/T/ipykernel_27004/1860081267.py\"\u001b[0;36m, line \u001b[0;32m1\u001b[0m\n\u001b[0;31m    1. NOSET\u001b[0m\n\u001b[0m       ^\u001b[0m\n\u001b[0;31mSyntaxError\u001b[0m\u001b[0;31m:\u001b[0m invalid syntax\n"
     ]
    }
   ],
   "source": [
    "1. NOSET\n",
    "2. DEBUG\n",
    "3. INFO\n",
    "4. WARNING\n",
    "5. ERROR\n",
    "6. CRITICAL\n"
   ]
  },
  {
   "cell_type": "code",
   "execution_count": 22,
   "id": "adfc7965-ad5b-487f-9148-0ea3a0e3759d",
   "metadata": {},
   "outputs": [],
   "source": [
    "logging.basicConfig(filename= \"test1.log\", level = logging.DEBUG, format = '%(asctime)s %(message)s')"
   ]
  },
  {
   "cell_type": "code",
   "execution_count": 25,
   "id": "f6518f38-4392-4879-a116-b6bfbb28587d",
   "metadata": {},
   "outputs": [],
   "source": [
    "logging.info(\"this is my line of execution \")"
   ]
  },
  {
   "cell_type": "code",
   "execution_count": 26,
   "id": "69f256c3-9929-46ea-a304-05f17e903309",
   "metadata": {},
   "outputs": [],
   "source": [
    "logging.error(\"this is my error\")"
   ]
  },
  {
   "cell_type": "code",
   "execution_count": 27,
   "id": "5701a459-28b2-43b3-b04d-204229ba9ee6",
   "metadata": {},
   "outputs": [],
   "source": [
    "logging.critical(\"this is my critical\")"
   ]
  },
  {
   "cell_type": "code",
   "execution_count": 28,
   "id": "890bd059-0eba-41ce-aa77-3cc36442a18e",
   "metadata": {},
   "outputs": [],
   "source": [
    "logging.debug(\"this is my info debug\")\n"
   ]
  },
  {
   "cell_type": "code",
   "execution_count": 30,
   "id": "b535edfa-b90c-4ab9-9302-5fb7ab838e60",
   "metadata": {},
   "outputs": [],
   "source": [
    "logging.shutdown()"
   ]
  },
  {
   "cell_type": "code",
   "execution_count": 4,
   "id": "c7c682cd-d233-46fd-854d-76228a48a563",
   "metadata": {},
   "outputs": [
    {
     "ename": "NameError",
     "evalue": "name 'logging' is not defined",
     "output_type": "error",
     "traceback": [
      "\u001b[0;31m---------------------------------------------------------------------------\u001b[0m",
      "\u001b[0;31mNameError\u001b[0m                                 Traceback (most recent call last)",
      "\u001b[0;32m/var/folders/fd/hfyxn16n77v2xc3jhkw_7pjc0000gn/T/ipykernel_33354/3143750737.py\u001b[0m in \u001b[0;36m<module>\u001b[0;34m\u001b[0m\n\u001b[0;32m----> 1\u001b[0;31m \u001b[0mlogging\u001b[0m\u001b[0;34m.\u001b[0m\u001b[0mbasiConfig\u001b[0m\u001b[0;34m(\u001b[0m\u001b[0mfilename\u001b[0m\u001b[0;34m=\u001b[0m \u001b[0;34m\"test3.log\"\u001b[0m\u001b[0;34m,\u001b[0m \u001b[0mlevel\u001b[0m\u001b[0;34m=\u001b[0m \u001b[0mlogging\u001b[0m\u001b[0;34m.\u001b[0m\u001b[0mDEBUG\u001b[0m\u001b[0;34m,\u001b[0m \u001b[0mformat\u001b[0m\u001b[0;34m=\u001b[0m \u001b[0;34m'%(asctime)s %(name))s %(levelname)s %(message)s'\u001b[0m\u001b[0;34m)\u001b[0m\u001b[0;34m\u001b[0m\u001b[0;34m\u001b[0m\u001b[0m\n\u001b[0m",
      "\u001b[0;31mNameError\u001b[0m: name 'logging' is not defined"
     ]
    }
   ],
   "source": [
    "logging.basiConfig(filename= \"test3.log\", level= logging.DEBUG, format= '%(asctime)s %(name))s %(levelname)s %(message)s')"
   ]
  },
  {
   "cell_type": "code",
   "execution_count": null,
   "id": "5c9e447b-2391-4165-a204-59c8761bc962",
   "metadata": {},
   "outputs": [],
   "source": []
  }
 ],
 "metadata": {
  "kernelspec": {
   "display_name": "Python 3 (ipykernel)",
   "language": "python",
   "name": "python3"
  },
  "language_info": {
   "codemirror_mode": {
    "name": "ipython",
    "version": 3
   },
   "file_extension": ".py",
   "mimetype": "text/x-python",
   "name": "python",
   "nbconvert_exporter": "python",
   "pygments_lexer": "ipython3",
   "version": "3.9.13"
  }
 },
 "nbformat": 4,
 "nbformat_minor": 5
}
