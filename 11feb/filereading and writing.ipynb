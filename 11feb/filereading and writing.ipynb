{
 "cells": [
  {
   "cell_type": "code",
   "execution_count": 3,
   "id": "37da63cf-86aa-4bfa-84d4-cd93889d7922",
   "metadata": {},
   "outputs": [],
   "source": [
    "data = {\n",
    "    \"name\" : \"ritu\",\n",
    "    \"mail_id\" : \"ritu@gmailcom\",\n",
    "    \"phnumber\" : 664824,\n",
    "    \"subject\" :[\"datascience\", \"bigdata\"]\n",
    "}\n",
    "    \n",
    "    "
   ]
  },
  {
   "cell_type": "code",
   "execution_count": 4,
   "id": "5735668c-7f00-4fb6-bfd3-c393df0d5ace",
   "metadata": {},
   "outputs": [],
   "source": [
    "import json"
   ]
  },
  {
   "cell_type": "code",
   "execution_count": 5,
   "id": "aa510123-2cff-4ecb-8716-c54aa9b5b132",
   "metadata": {},
   "outputs": [],
   "source": [
    "with open(\"test1.json\", \"w\") as f :\n",
    "    json.dump(data,f)"
   ]
  },
  {
   "cell_type": "code",
   "execution_count": 6,
   "id": "90f3ec30-ea76-475d-8e49-f110a1f7475b",
   "metadata": {},
   "outputs": [],
   "source": [
    "with open(\"test1.json\", 'r') as f :\n",
    "    data1= json.load(f)"
   ]
  },
  {
   "cell_type": "code",
   "execution_count": 7,
   "id": "c195ffbc-fc23-4f7d-b47d-1de9f751e5a7",
   "metadata": {},
   "outputs": [
    {
     "data": {
      "text/plain": [
       "{'name': 'ritu',\n",
       " 'mail_id': 'ritu@gmailcom',\n",
       " 'phnumber': 664824,\n",
       " 'subject': ['datascience', 'bigdata']}"
      ]
     },
     "execution_count": 7,
     "metadata": {},
     "output_type": "execute_result"
    }
   ],
   "source": [
    "data1"
   ]
  },
  {
   "cell_type": "code",
   "execution_count": 8,
   "id": "495324c1-c3f3-4f68-bc57-31a04d6646b4",
   "metadata": {},
   "outputs": [],
   "source": [
    "data= [[\"name\", \"email_id\", \"number\"],\n",
    "       [\"ritu\", \"ritu@gmail.com\", 423434],\n",
    "       [\"krish\", \"krish@gmail.com\", 34343]\n",
    "      ]\n",
    " "
   ]
  },
  {
   "cell_type": "code",
   "execution_count": 9,
   "id": "fbe5128c-90c8-4f66-b500-02670b0b7df9",
   "metadata": {},
   "outputs": [],
   "source": [
    "import csv"
   ]
  },
  {
   "cell_type": "raw",
   "id": "0e90cfc7-2c28-4592-9358-b4e150c96778",
   "metadata": {},
   "source": [
    "how to make row and columnn to write information\n"
   ]
  },
  {
   "cell_type": "code",
   "execution_count": 11,
   "id": "ee589e05-99ef-4aec-9695-9aeb5ce45578",
   "metadata": {},
   "outputs": [],
   "source": [
    "with open(\"test3.csv\", 'w') as f :\n",
    "    w = csv.writer(f)\n",
    "    for i in data:\n",
    "        w.writerow(i)"
   ]
  },
  {
   "cell_type": "code",
   "execution_count": 12,
   "id": "24aacec4-3f1f-4db1-9ca7-68b5f366c6a7",
   "metadata": {},
   "outputs": [
    {
     "name": "stdout",
     "output_type": "stream",
     "text": [
      "['name', 'email_id', 'number']\n",
      "['ritu', 'ritu@gmail.com', '423434']\n",
      "['krish', 'krish@gmail.com', '34343']\n"
     ]
    }
   ],
   "source": [
    "with open(\"test3.csv\", 'r') as f :\n",
    "    read = csv.reader(f)\n",
    "    for i in read:\n",
    "        print(i)"
   ]
  },
  {
   "cell_type": "raw",
   "id": "f0ae64de-4198-487a-a232-16cb4a8aad0e",
   "metadata": {},
   "source": [
    "binary is a kind of data which is avilable in he form of video ,image, audio"
   ]
  },
  {
   "cell_type": "code",
   "execution_count": 13,
   "id": "f47f44cd-7b58-4df8-a853-e745e4646322",
   "metadata": {},
   "outputs": [],
   "source": [
    "with open(\"test4.bin\", 'wb') as f :\n",
    "    f.write(b\"\\x01\\x02\\x03\")"
   ]
  },
  {
   "cell_type": "code",
   "execution_count": 15,
   "id": "4a76eccb-e381-4474-8343-cfcc17f19bff",
   "metadata": {},
   "outputs": [
    {
     "name": "stdout",
     "output_type": "stream",
     "text": [
      "b'\\x01\\x02\\x03'\n"
     ]
    }
   ],
   "source": [
    "with open(\"test4.bin\", 'rb') as f :\n",
    "    print(f.read())"
   ]
  },
  {
   "cell_type": "code",
   "execution_count": null,
   "id": "7aed720d-c02f-4580-bd3f-2e0bf9bf25f9",
   "metadata": {},
   "outputs": [],
   "source": []
  }
 ],
 "metadata": {
  "kernelspec": {
   "display_name": "Python 3 (ipykernel)",
   "language": "python",
   "name": "python3"
  },
  "language_info": {
   "codemirror_mode": {
    "name": "ipython",
    "version": 3
   },
   "file_extension": ".py",
   "mimetype": "text/x-python",
   "name": "python",
   "nbconvert_exporter": "python",
   "pygments_lexer": "ipython3",
   "version": "3.9.13"
  }
 },
 "nbformat": 4,
 "nbformat_minor": 5
}
