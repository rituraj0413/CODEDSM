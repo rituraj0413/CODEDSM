{
 "cells": [
  {
   "cell_type": "code",
   "execution_count": 1,
   "id": "6dc3ad42-8472-438e-a57c-0d601121b4f0",
   "metadata": {},
   "outputs": [],
   "source": [
    "import io"
   ]
  },
  {
   "cell_type": "code",
   "execution_count": 9,
   "id": "b0e4b708-f168-4262-927d-4068c6f820e5",
   "metadata": {},
   "outputs": [],
   "source": [
    "with open(\"test.txt\", \"wb\") as f :\n",
    "    file = io.BufferedWriter(f)\n",
    "    file.write(b\"this is my buffer write\")\n",
    "    file.write(b\"this is my second line that i am trying \")\n",
    "    file.flush()"
   ]
  },
  {
   "cell_type": "code",
   "execution_count": 10,
   "id": "58089c0a-9788-445b-97c7-eb5794909a95",
   "metadata": {},
   "outputs": [
    {
     "name": "stdout",
     "output_type": "stream",
     "text": [
      "b'this is my buffer writethis is my second line that i am trying '\n"
     ]
    }
   ],
   "source": [
    "with open(\"test.txt\", \"rb\") as f:\n",
    "    file = io.BufferedReader(f)\n",
    "    data = file.read(1000)\n",
    "    print(data)"
   ]
  },
  {
   "cell_type": "code",
   "execution_count": null,
   "id": "36463449-93af-468e-8fcc-ccd8f0656b39",
   "metadata": {},
   "outputs": [],
   "source": []
  }
 ],
 "metadata": {
  "kernelspec": {
   "display_name": "Python 3 (ipykernel)",
   "language": "python",
   "name": "python3"
  },
  "language_info": {
   "codemirror_mode": {
    "name": "ipython",
    "version": 3
   },
   "file_extension": ".py",
   "mimetype": "text/x-python",
   "name": "python",
   "nbconvert_exporter": "python",
   "pygments_lexer": "ipython3",
   "version": "3.9.13"
  }
 },
 "nbformat": 4,
 "nbformat_minor": 5
}
