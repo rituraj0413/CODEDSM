{
 "cells": [
  {
   "cell_type": "raw",
   "id": "8c954754-6387-4078-b1bb-cec9ec75f4f9",
   "metadata": {},
   "source": [
    "threading"
   ]
  },
  {
   "cell_type": "code",
   "execution_count": 1,
   "id": "bbb90136-8144-47a7-9129-da8dd6e9c987",
   "metadata": {},
   "outputs": [],
   "source": [
    "import threading"
   ]
  },
  {
   "cell_type": "code",
   "execution_count": 6,
   "id": "0e4711f5-d7e4-4663-9771-0a8eb80b7a1b",
   "metadata": {},
   "outputs": [],
   "source": [
    "def test(id) :\n",
    "    print(\"this is my test id %d \" % id)"
   ]
  },
  {
   "cell_type": "code",
   "execution_count": 7,
   "id": "bb449be3-373a-46f3-898d-912d10844a0b",
   "metadata": {},
   "outputs": [
    {
     "name": "stdout",
     "output_type": "stream",
     "text": [
      "this is my test id 10 \n"
     ]
    }
   ],
   "source": [
    "test(10)"
   ]
  },
  {
   "cell_type": "code",
   "execution_count": 8,
   "id": "6354832a-5f5e-480b-8012-58d37bb1b8a6",
   "metadata": {},
   "outputs": [
    {
     "name": "stdout",
     "output_type": "stream",
     "text": [
      "this is my test id 1 \n"
     ]
    }
   ],
   "source": [
    "test(1)"
   ]
  },
  {
   "cell_type": "code",
   "execution_count": 9,
   "id": "4c502aff-73dc-41b4-99ca-0f2aaa3658d7",
   "metadata": {},
   "outputs": [
    {
     "name": "stdout",
     "output_type": "stream",
     "text": [
      "this is my test id 3 \n"
     ]
    }
   ],
   "source": [
    "test(3)"
   ]
  },
  {
   "cell_type": "code",
   "execution_count": 11,
   "id": "7adb1fd0-d583-41ec-94b0-2d0f01c8bf44",
   "metadata": {},
   "outputs": [],
   "source": [
    "thread = [threading.Thread(target = test, args = (i,)) for i in [10, 1, 3]]"
   ]
  },
  {
   "cell_type": "code",
   "execution_count": 12,
   "id": "bfb31f4b-e9ba-47a6-b13b-3313c09dfad9",
   "metadata": {},
   "outputs": [
    {
     "data": {
      "text/plain": [
       "[<Thread(Thread-5, initial)>,\n",
       " <Thread(Thread-6, initial)>,\n",
       " <Thread(Thread-7, initial)>]"
      ]
     },
     "execution_count": 12,
     "metadata": {},
     "output_type": "execute_result"
    }
   ],
   "source": [
    "thread"
   ]
  },
  {
   "cell_type": "code",
   "execution_count": 14,
   "id": "93024d5d-3c76-485f-86d5-230bbd812391",
   "metadata": {},
   "outputs": [
    {
     "name": "stdout",
     "output_type": "stream",
     "text": [
      "this is my test id 10 \n",
      "this is my test id 1 \n",
      "this is my test id 3 \n"
     ]
    }
   ],
   "source": [
    "for t in thread:\n",
    "    t.start()\n",
    "    "
   ]
  },
  {
   "cell_type": "code",
   "execution_count": 36,
   "id": "8fac7fde-983f-413a-bbcf-2401ff0bd0ff",
   "metadata": {},
   "outputs": [],
   "source": [
    "import urllib.request\n",
    "\n",
    "def file_download(url, filename):\n",
    "    urllib.request.urlretrieve(url , filename)"
   ]
  },
  {
   "cell_type": "code",
   "execution_count": 37,
   "id": "98a33c38-9a97-408c-96ce-994b5b5444e7",
   "metadata": {},
   "outputs": [],
   "source": [
    "file_download('https://www.knowledgehut.com/blog/data-science/data-science-websites', \"test1.txt\")"
   ]
  },
  {
   "cell_type": "code",
   "execution_count": 22,
   "id": "88b16788-5385-48ea-9850-9cbc903857f5",
   "metadata": {},
   "outputs": [],
   "source": [
    "url_list = ['https://www.knowledgehut.com/blog/data-science/data-science-websites']"
   ]
  },
  {
   "cell_type": "code",
   "execution_count": 23,
   "id": "ef2ed1b8-41fa-4de9-af02-1dac10d449df",
   "metadata": {},
   "outputs": [
    {
     "data": {
      "text/plain": [
       "['https://www.knowledgehut.com/blog/data-science/data-science-websites']"
      ]
     },
     "execution_count": 23,
     "metadata": {},
     "output_type": "execute_result"
    }
   ],
   "source": [
    "url_list"
   ]
  },
  {
   "cell_type": "code",
   "execution_count": 25,
   "id": "7f5617a2-f0fd-4d9d-9be1-8cccf47f6b98",
   "metadata": {},
   "outputs": [],
   "source": [
    "data_file_list= ['data1.txt',' data2.txt', 'data3.txt']"
   ]
  },
  {
   "cell_type": "code",
   "execution_count": 27,
   "id": "c6bc8e84-747b-4d75-8396-3e2e164b9ae9",
   "metadata": {},
   "outputs": [
    {
     "data": {
      "text/plain": [
       "['data1.txt', ' data2.txt', 'data3.txt']"
      ]
     },
     "execution_count": 27,
     "metadata": {},
     "output_type": "execute_result"
    }
   ],
   "source": [
    "data_file_list"
   ]
  },
  {
   "cell_type": "code",
   "execution_count": 38,
   "id": "46bffb9c-3a41-4ec9-91ba-de4a019081f6",
   "metadata": {},
   "outputs": [],
   "source": [
    "thread1 = [threading.Thread(target=file_download , args=(url_list[i],data_file_list[i])) for i in range(len(url_list))]"
   ]
  },
  {
   "cell_type": "code",
   "execution_count": 41,
   "id": "c20c7a33-e5cb-4619-b668-34cf1035d4f2",
   "metadata": {},
   "outputs": [],
   "source": [
    "for t in thread1:\n",
    "    t.start()"
   ]
  },
  {
   "cell_type": "code",
   "execution_count": 42,
   "id": "64d07969-4db2-414a-8ca9-cb71c2b7e9a0",
   "metadata": {},
   "outputs": [
    {
     "data": {
      "text/plain": [
       "[<Thread(Thread-8, stopped 13058842624)>]"
      ]
     },
     "execution_count": 42,
     "metadata": {},
     "output_type": "execute_result"
    }
   ],
   "source": [
    "thread1"
   ]
  },
  {
   "cell_type": "code",
   "execution_count": 43,
   "id": "7c6a1fa2-0e52-49b5-9e29-1bca4260b571",
   "metadata": {},
   "outputs": [],
   "source": [
    "import time"
   ]
  },
  {
   "cell_type": "code",
   "execution_count": 69,
   "id": "a1f6a99d-5960-45fd-9551-6f5655b27044",
   "metadata": {},
   "outputs": [],
   "source": [
    "def test2(x) :\n",
    "    for i in range(10) :\n",
    "        print(\"test1 print the value of x %d and print the vlue of i %d\" %(x,i))\n",
    "        time.sleep(1)"
   ]
  },
  {
   "cell_type": "code",
   "execution_count": null,
   "id": "e6bc6d65-3d51-4c2c-a8ec-d84dd79d8455",
   "metadata": {},
   "outputs": [],
   "source": []
  },
  {
   "cell_type": "code",
   "execution_count": 73,
   "id": "44497af4-9864-4577-a33b-77811a0cf5e6",
   "metadata": {},
   "outputs": [],
   "source": [
    "thread2 = [threading.Thread(target = test2, args=(i,)) for i in [100 , 10,20,5]]"
   ]
  },
  {
   "cell_type": "code",
   "execution_count": 74,
   "id": "5e6d832b-c2af-44df-8ab7-9232dd060cbe",
   "metadata": {},
   "outputs": [
    {
     "name": "stdout",
     "output_type": "stream",
     "text": [
      "test1 print the value of x 2 and print the vlue of i 0\n",
      "test1 print the value of x 2 and print the vlue of i 1\n",
      "test1 print the value of x 2 and print the vlue of i 2\n",
      "test1 print the value of x 2 and print the vlue of i 3\n",
      "test1 print the value of x 2 and print the vlue of i 4\n",
      "test1 print the value of x 2 and print the vlue of i 5\n",
      "test1 print the value of x 2 and print the vlue of i 6\n",
      "test1 print the value of x 2 and print the vlue of i 7\n",
      "test1 print the value of x 2 and print the vlue of i 8\n",
      "test1 print the value of x 2 and print the vlue of i 9\n"
     ]
    }
   ],
   "source": [
    "test2(2)"
   ]
  },
  {
   "cell_type": "code",
   "execution_count": 75,
   "id": "f6558978-a659-4ae1-b05d-ebd0a6eb6292",
   "metadata": {},
   "outputs": [
    {
     "name": "stdout",
     "output_type": "stream",
     "text": [
      "test1 print the value of x 100 and print the vlue of i 0\n",
      "test1 print the value of x 10 and print the vlue of i 0\n",
      "test1 print the value of x 20 and print the vlue of i 0\n",
      "test1 print the value of x 5 and print the vlue of i 0\n",
      "test1 print the value of x 100 and print the vlue of i 1test1 print the value of x 10 and print the vlue of i 1\n",
      "test1 print the value of x 20 and print the vlue of i 1\n",
      "\n",
      "test1 print the value of x 5 and print the vlue of i 1\n",
      "test1 print the value of x 10 and print the vlue of i 2test1 print the value of x 20 and print the vlue of i 2\n",
      "test1 print the value of x 100 and print the vlue of i 2\n",
      "test1 print the value of x 5 and print the vlue of i 2\n",
      "\n",
      "test1 print the value of x 20 and print the vlue of i 3test1 print the value of x 100 and print the vlue of i 3\n",
      "test1 print the value of x 5 and print the vlue of i 3\n",
      "test1 print the value of x 10 and print the vlue of i 3\n",
      "\n",
      "test1 print the value of x 100 and print the vlue of i 4test1 print the value of x 5 and print the vlue of i 4\n",
      "test1 print the value of x 10 and print the vlue of i 4\n",
      "test1 print the value of x 20 and print the vlue of i 4\n",
      "\n",
      "test1 print the value of x 5 and print the vlue of i 5test1 print the value of x 100 and print the vlue of i 5\n",
      "test1 print the value of x 10 and print the vlue of i 5\n",
      "test1 print the value of x 20 and print the vlue of i 5\n",
      "\n",
      "test1 print the value of x 100 and print the vlue of i 6test1 print the value of x 20 and print the vlue of i 6\n",
      "test1 print the value of x 10 and print the vlue of i 6\n",
      "test1 print the value of x 5 and print the vlue of i 6\n",
      "\n",
      "test1 print the value of x 20 and print the vlue of i 7test1 print the value of x 5 and print the vlue of i 7\n",
      "test1 print the value of x 100 and print the vlue of i 7\n",
      "test1 print the value of x 10 and print the vlue of i 7\n",
      "\n",
      "test1 print the value of x 20 and print the vlue of i 8test1 print the value of x 10 and print the vlue of i 8\n",
      "\n",
      "test1 print the value of x 5 and print the vlue of i 8\n",
      "test1 print the value of x 100 and print the vlue of i 8\n",
      "test1 print the value of x 10 and print the vlue of i 9test1 print the value of x 5 and print the vlue of i 9\n",
      "test1 print the value of x 100 and print the vlue of i 9\n",
      "test1 print the value of x 20 and print the vlue of i 9\n",
      "\n"
     ]
    }
   ],
   "source": [
    "for t in thread2:\n",
    "    t.start()"
   ]
  },
  {
   "cell_type": "code",
   "execution_count": 86,
   "id": "895a7464-8c4d-438c-82c8-e53bb969c7e7",
   "metadata": {},
   "outputs": [],
   "source": [
    "shared_var = 0\n",
    "lock_var = threading.Lock()\n",
    "def test3(x) :\n",
    "    global shared_var\n",
    "    with lock_var :\n",
    "        shared_var = shared_var + 1 \n",
    "        print(\"value of x %d and value of shared_var %d \" %(x, shared_var))\n",
    "        time.sleep(1)\n",
    "    "
   ]
  },
  {
   "cell_type": "code",
   "execution_count": 87,
   "id": "10f80508-d153-4a70-8d72-63d754dcd37b",
   "metadata": {},
   "outputs": [
    {
     "name": "stdout",
     "output_type": "stream",
     "text": [
      "value of x 1 and value of shared_var 1 \n"
     ]
    }
   ],
   "source": [
    "test3(1)"
   ]
  },
  {
   "cell_type": "code",
   "execution_count": 88,
   "id": "39be740a-8262-4882-bfa7-d2cee9f39f75",
   "metadata": {},
   "outputs": [
    {
     "name": "stdout",
     "output_type": "stream",
     "text": [
      "value of x 2 and value of shared_var 2 \n"
     ]
    }
   ],
   "source": [
    "test3(2)"
   ]
  },
  {
   "cell_type": "code",
   "execution_count": 89,
   "id": "c6f0912b-0dc6-4adb-bc8d-accef8267224",
   "metadata": {},
   "outputs": [
    {
     "name": "stdout",
     "output_type": "stream",
     "text": [
      "value of x 4 and value of shared_var 3 \n"
     ]
    }
   ],
   "source": [
    "test3(4)"
   ]
  },
  {
   "cell_type": "code",
   "execution_count": 90,
   "id": "a70c34d2-bcb2-4569-a77e-cdbac1d95be3",
   "metadata": {},
   "outputs": [
    {
     "name": "stdout",
     "output_type": "stream",
     "text": [
      "value of x 1 and value of shared_var 1 \n",
      "value of x 2 and value of shared_var 2 \n",
      "value of x 3 and value of shared_var 3 \n",
      "value of x 4 and value of shared_var 4 \n",
      "value of x 4 and value of shared_var 5 \n",
      "value of x 5 and value of shared_var 6 \n"
     ]
    }
   ],
   "source": [
    "shared_var = 0\n",
    "lock_var = threading.Lock()\n",
    "def test4(x) :\n",
    "    global shared_var\n",
    "    with lock_var :\n",
    "        shared_var = shared_var + 1 \n",
    "        print(\"value of x %d and value of shared_var %d \" %(x, shared_var))\n",
    "        time.sleep(1)\n",
    "        \n",
    "thread5 = [threading.Thread(target = test4, args = (i,)) for i in [1,2,3,4,4,5]]\n",
    "for t in thread5 :\n",
    "    t.start()\n",
    "    "
   ]
  },
  {
   "cell_type": "code",
   "execution_count": null,
   "id": "7e6db491-e4d4-4b35-bdad-c934b45ae51b",
   "metadata": {},
   "outputs": [],
   "source": []
  }
 ],
 "metadata": {
  "kernelspec": {
   "display_name": "Python 3 (ipykernel)",
   "language": "python",
   "name": "python3"
  },
  "language_info": {
   "codemirror_mode": {
    "name": "ipython",
    "version": 3
   },
   "file_extension": ".py",
   "mimetype": "text/x-python",
   "name": "python",
   "nbconvert_exporter": "python",
   "pygments_lexer": "ipython3",
   "version": "3.9.13"
  }
 },
 "nbformat": 4,
 "nbformat_minor": 5
}
