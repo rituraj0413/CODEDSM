{
 "cells": [
  {
   "cell_type": "code",
   "execution_count": null,
   "id": "5bc37921-35b3-435c-9b0b-9011016823cf",
   "metadata": {},
   "outputs": [],
   "source": []
  },
  {
   "cell_type": "code",
   "execution_count": 17,
   "id": "71393878-b611-4bd7-981f-45a7d56f26dd",
   "metadata": {},
   "outputs": [],
   "source": [
    "import scipy.stats as stat\n",
    "import numpy as np"
   ]
  },
  {
   "cell_type": "code",
   "execution_count": 18,
   "id": "c429ad42-3d6c-48d2-8ea4-01f5c47ecb4e",
   "metadata": {},
   "outputs": [],
   "source": [
    "## no of hours students study daily in a basic schedule\n",
    "#monday , tuesday, wednesday, thrusday, friday, saturday, sunday\n",
    "expected_data=[8,7,9,8,4,6,7]\n",
    "observed_data=[8,9,8,8,4,5,7]"
   ]
  },
  {
   "cell_type": "code",
   "execution_count": 19,
   "id": "bae1b9a6-9d80-42f0-b311-33e3f850f205",
   "metadata": {},
   "outputs": [
    {
     "data": {
      "text/plain": [
       "(49, 49)"
      ]
     },
     "execution_count": 19,
     "metadata": {},
     "output_type": "execute_result"
    }
   ],
   "source": [
    "sum (expected_data ),sum( observed_data)"
   ]
  },
  {
   "cell_type": "code",
   "execution_count": 21,
   "id": "bb1b625b-6085-4efb-9a57-3120f66576c7",
   "metadata": {},
   "outputs": [],
   "source": [
    "#chi square goodness of fit\n",
    "chisquare_test_statistics,p_value=stat.chisquare(observed_data,expected_data)"
   ]
  },
  {
   "cell_type": "code",
   "execution_count": 22,
   "id": "f6d95529-73d8-4f7b-bd1f-fef1471a0e65",
   "metadata": {},
   "outputs": [
    {
     "name": "stdout",
     "output_type": "stream",
     "text": [
      "0.8492063492063492\n",
      "0.9906889402968122\n"
     ]
    },
    {
     "data": {
      "text/plain": [
       "(None, None)"
      ]
     },
     "execution_count": 22,
     "metadata": {},
     "output_type": "execute_result"
    }
   ],
   "source": [
    "print(chisquare_test_statistics),print(p_value)"
   ]
  },
  {
   "cell_type": "code",
   "execution_count": 23,
   "id": "df79a0e4-bac1-45f0-bac1-1296fd89c9bc",
   "metadata": {},
   "outputs": [],
   "source": [
    "#find critical value\n",
    "significance=0.05\n",
    "dof=len(observed_data)-1\n",
    "critical_value=stat.chi2.ppf(1-significance,dof)"
   ]
  },
  {
   "cell_type": "code",
   "execution_count": 24,
   "id": "97b03a30-4b2e-4c48-978a-1152634c4e7e",
   "metadata": {},
   "outputs": [
    {
     "data": {
      "text/plain": [
       "12.591587243743977"
      ]
     },
     "execution_count": 24,
     "metadata": {},
     "output_type": "execute_result"
    }
   ],
   "source": [
    "critical_value"
   ]
  },
  {
   "cell_type": "code",
   "execution_count": 25,
   "id": "b5c39927-42b8-4b0c-8135-f2e7e4cdc3aa",
   "metadata": {},
   "outputs": [
    {
     "name": "stdout",
     "output_type": "stream",
     "text": [
      "acceptthe null hypothesis\n"
     ]
    }
   ],
   "source": [
    "if chisquare_test_statistics>critical_value:\n",
    "    print(\"reject the null hypothesis\")\n",
    "else:\n",
    "    print(\"acceptthe null hypothesis\")"
   ]
  },
  {
   "cell_type": "code",
   "execution_count": null,
   "id": "060f8a62-6ec1-4bb9-927b-b052bf5d153c",
   "metadata": {},
   "outputs": [],
   "source": []
  },
  {
   "cell_type": "code",
   "execution_count": null,
   "id": "87384387-3443-4dad-987e-64f3df66b33d",
   "metadata": {},
   "outputs": [],
   "source": []
  },
  {
   "cell_type": "code",
   "execution_count": null,
   "id": "d2274cf4-8043-468d-b2ac-66a175d82d4d",
   "metadata": {},
   "outputs": [],
   "source": []
  },
  {
   "cell_type": "code",
   "execution_count": null,
   "id": "282ce8d8-8b76-4d1c-9c67-37d00a0b1286",
   "metadata": {},
   "outputs": [],
   "source": []
  },
  {
   "cell_type": "code",
   "execution_count": null,
   "id": "c561e7ee-8213-4721-acba-8513ec1f01c6",
   "metadata": {},
   "outputs": [],
   "source": []
  }
 ],
 "metadata": {
  "kernelspec": {
   "display_name": "Python 3 (ipykernel)",
   "language": "python",
   "name": "python3"
  },
  "language_info": {
   "codemirror_mode": {
    "name": "ipython",
    "version": 3
   },
   "file_extension": ".py",
   "mimetype": "text/x-python",
   "name": "python",
   "nbconvert_exporter": "python",
   "pygments_lexer": "ipython3",
   "version": "3.9.13"
  }
 },
 "nbformat": 4,
 "nbformat_minor": 5
}
