{
 "cells": [
  {
   "cell_type": "code",
   "execution_count": 2,
   "id": "af2064f4-945c-46c8-8f25-2b50db042ca6",
   "metadata": {},
   "outputs": [
    {
     "name": "stdout",
     "output_type": "stream",
     "text": [
      "division by zero\n"
     ]
    }
   ],
   "source": [
    "try :\n",
    "    a = 10\n",
    "    10/0\n",
    "except ZeroDivisionError as e :\n",
    "    print(e)"
   ]
  },
  {
   "cell_type": "code",
   "execution_count": 4,
   "id": "afbc8f1b-b6a2-435e-a30f-e2140ef1cf6e",
   "metadata": {},
   "outputs": [
    {
     "name": "stdout",
     "output_type": "stream",
     "text": [
      "invalid literal for int() with base 10: 'ritu'\n"
     ]
    }
   ],
   "source": [
    "try :\n",
    "    int(\"ritu\")\n",
    "except (ValueError , TypeError) as e :\n",
    "    print(e)"
   ]
  },
  {
   "cell_type": "code",
   "execution_count": 6,
   "id": "4c926665-195f-49a5-8826-b6adc501c67c",
   "metadata": {},
   "outputs": [
    {
     "name": "stdout",
     "output_type": "stream",
     "text": [
      "this wil catch an error\n"
     ]
    }
   ],
   "source": [
    "try :\n",
    "    int(\"ritu\")\n",
    "except :\n",
    "    print(\"this wil catch an error\")"
   ]
  },
  {
   "cell_type": "code",
   "execution_count": 8,
   "id": "2ccd102a-1c91-4834-9093-2ff6a22d279c",
   "metadata": {},
   "outputs": [
    {
     "name": "stdout",
     "output_type": "stream",
     "text": [
      "No module named 'ritu'\n"
     ]
    }
   ],
   "source": [
    "try :\n",
    "    import ritu\n",
    "except ImportError as e :\n",
    "    print(e)"
   ]
  },
  {
   "cell_type": "code",
   "execution_count": 2,
   "id": "82895ab0-5dee-47a4-8d63-91d84f21b493",
   "metadata": {},
   "outputs": [
    {
     "name": "stdout",
     "output_type": "stream",
     "text": [
      "'key10'\n"
     ]
    }
   ],
   "source": [
    "try :\n",
    "    d = {1: [3,4,5,6] , \"key\" :\"ritu\"}\n",
    "    d[\"key10\"]\n",
    "except KeyError as e :\n",
    "    print(e)"
   ]
  },
  {
   "cell_type": "code",
   "execution_count": 3,
   "id": "d83649e8-0640-4215-8ffa-a740720135d5",
   "metadata": {},
   "outputs": [
    {
     "name": "stdout",
     "output_type": "stream",
     "text": [
      "'str' object has no attribute 'test'\n"
     ]
    }
   ],
   "source": [
    "try :\n",
    "    \"ritu\".test()\n",
    "except AttributeError as e :\n",
    "    print(e)"
   ]
  },
  {
   "cell_type": "code",
   "execution_count": 5,
   "id": "8f653b6a-d015-41f1-a693-b652c7f52909",
   "metadata": {},
   "outputs": [
    {
     "name": "stdout",
     "output_type": "stream",
     "text": [
      "list index out of range\n"
     ]
    }
   ],
   "source": [
    "try :\n",
    "    l = [1,2,3,3]\n",
    "    l[10]\n",
    "except IndexError as e :  \n",
    "    print(e)"
   ]
  },
  {
   "cell_type": "code",
   "execution_count": 7,
   "id": "379065ca-c15b-430e-be4e-dd7d69ba4168",
   "metadata": {},
   "outputs": [
    {
     "name": "stdout",
     "output_type": "stream",
     "text": [
      "unsupported operand type(s) for +: 'int' and 'str'\n"
     ]
    }
   ],
   "source": [
    "try :\n",
    "    123 + \"ritu\"\n",
    "except TypeError as e :\n",
    "    print(e)"
   ]
  },
  {
   "cell_type": "code",
   "execution_count": 11,
   "id": "6e5d0e2c-5c08-4f7d-96e0-710b1836539b",
   "metadata": {},
   "outputs": [
    {
     "name": "stdout",
     "output_type": "stream",
     "text": [
      "test [Errno 2] No such file or directory: 'test.txt'\n"
     ]
    }
   ],
   "source": [
    "try :\n",
    "    with open(\"test.txt\", 'r')as f :\n",
    "        f.read()\n",
    "except Exception as e :  \n",
    "    print(\"test\", e)\n",
    "except FileNotFoundError as e :    \n",
    "    print(\"this is my file not found type error \" , e)"
   ]
  },
  {
   "cell_type": "code",
   "execution_count": 14,
   "id": "95c305d8-bfef-4f4a-99f7-07c141cdcbe0",
   "metadata": {},
   "outputs": [
    {
     "ename": "SyntaxError",
     "evalue": "invalid syntax (1784444339.py, line 6)",
     "output_type": "error",
     "traceback": [
      "\u001b[0;36m  File \u001b[0;32m\"/var/folders/fd/hfyxn16n77v2xc3jhkw_7pjc0000gn/T/ipykernel_47138/1784444339.py\"\u001b[0;36m, line \u001b[0;32m6\u001b[0m\n\u001b[0;31m    except Exception as e :\u001b[0m\n\u001b[0m    ^\u001b[0m\n\u001b[0;31mSyntaxError\u001b[0m\u001b[0;31m:\u001b[0m invalid syntax\n"
     ]
    }
   ],
   "source": [
    "def test(file) :\n",
    "\n",
    "    try :\n",
    "        with open(\"test.txt\", 'r')as f :\n",
    "            f.read()\n",
    "        except Exception as e :  \n",
    "            print(\"test\", e)\n",
    "        except FileNotFoundError as e :    \n",
    "            print(\"this is my file not found type error \" , e)"
   ]
  },
  {
   "cell_type": "code",
   "execution_count": null,
   "id": "ad1532e2-821e-4646-b001-dfe78d3f80c7",
   "metadata": {},
   "outputs": [],
   "source": []
  }
 ],
 "metadata": {
  "kernelspec": {
   "display_name": "Python 3 (ipykernel)",
   "language": "python",
   "name": "python3"
  },
  "language_info": {
   "codemirror_mode": {
    "name": "ipython",
    "version": 3
   },
   "file_extension": ".py",
   "mimetype": "text/x-python",
   "name": "python",
   "nbconvert_exporter": "python",
   "pygments_lexer": "ipython3",
   "version": "3.9.13"
  }
 },
 "nbformat": 4,
 "nbformat_minor": 5
}
