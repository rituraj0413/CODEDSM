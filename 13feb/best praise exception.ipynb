{
 "cells": [
  {
   "cell_type": "code",
   "execution_count": 8,
   "id": "93d369db-5cca-4569-b82d-6afc91d36bd8",
   "metadata": {},
   "outputs": [
    {
     "name": "stdout",
     "output_type": "stream",
     "text": [
      "division by zero\n"
     ]
    }
   ],
   "source": [
    "#use always a specific exception \n",
    "try :\n",
    "    10/0\n",
    "except Exception as e :\n",
    "    print(e)"
   ]
  },
  {
   "cell_type": "code",
   "execution_count": 14,
   "id": "95357c76-557a-45dd-966e-f84f0af85fee",
   "metadata": {},
   "outputs": [
    {
     "name": "stdout",
     "output_type": "stream",
     "text": [
      "division by zero\n"
     ]
    }
   ],
   "source": [
    "try :\n",
    "    10/0\n",
    "except Exception as e :\n",
    "    print(e)"
   ]
  },
  {
   "cell_type": "code",
   "execution_count": 16,
   "id": "d235305f-368d-43bd-8f0f-e75abe568adc",
   "metadata": {},
   "outputs": [
    {
     "name": "stdout",
     "output_type": "stream",
     "text": [
      "THIS IS MY ZERO DII-VISON ERROR i am handling  division by zero\n"
     ]
    }
   ],
   "source": [
    "#print always a valid mesgg\n",
    "try :\n",
    "    10/0\n",
    "except Exception as e :\n",
    "    print(\"THIS IS MY ZERO DII-VISON ERROR i am handling \", e)"
   ]
  },
  {
   "cell_type": "code",
   "execution_count": 21,
   "id": "6e8445ee-6f9f-42d5-ab15-ad169b4d87ed",
   "metadata": {},
   "outputs": [
    {
     "name": "stderr",
     "output_type": "stream",
     "text": [
      "ERROR:root:this is my zero divison error ia am handling division by zero \n"
     ]
    }
   ],
   "source": [
    "#always try to log\n",
    "import logging \n",
    "logging.basicConfig(fileName = \"error.log\", level = logging.ERROR  )\n",
    "try :\n",
    "    10/0\n",
    "except ZeroDivisionError as e :    \n",
    "    logging.error(\"this is my zero divison error ia am handling {} \".format( e))\n",
    "    "
   ]
  },
  {
   "cell_type": "code",
   "execution_count": 25,
   "id": "822f9a0c-645d-49cf-9de3-fea3d373420c",
   "metadata": {},
   "outputs": [
    {
     "name": "stderr",
     "output_type": "stream",
     "text": [
      "ERROR:root:this is my zero divison error ia am handling division by zero \n"
     ]
    }
   ],
   "source": [
    "#always avoid to write a multiple exception handling\n",
    "try :\n",
    "    10/0\n",
    "except FileNotFoundError as e:\n",
    "    logging.error(\"thhis is my file not found {} \".format( e))\n",
    "except AttributeError as e : \n",
    "    logging.error(\"this is my error {} \".format( e))\n",
    "except ZeroDivisionError as e :    \n",
    "    logging.error(\"this is my zero divison error ia am handling {} \".format( e))\n",
    "    "
   ]
  },
  {
   "cell_type": "code",
   "execution_count": null,
   "id": "6a6f159a-3a75-488e-9641-d5fd939c8e93",
   "metadata": {},
   "outputs": [],
   "source": [
    "#prepare a proper documentation\n"
   ]
  },
  {
   "cell_type": "code",
   "execution_count": 27,
   "id": "a4123511-d5c1-482c-81f9-3b9250f93f09",
   "metadata": {},
   "outputs": [],
   "source": [
    "#cleanup all the resources \n",
    "\n",
    "try :\n",
    "    with open(\"test.txt\", \"w\")as f :\n",
    "        f.write(\"this is ,y msg to file \")\n",
    "except FileNotFoundError as e:\n",
    "    logging.error(\"this is my file not found {}\".format( e))\n",
    "finally :\n",
    "    f.close"
   ]
  },
  {
   "cell_type": "code",
   "execution_count": null,
   "id": "5fa593eb-e462-4bd5-8d67-75cc52b694ad",
   "metadata": {},
   "outputs": [],
   "source": []
  },
  {
   "cell_type": "code",
   "execution_count": null,
   "id": "64f06424-75f7-401f-bbda-faee1b88190b",
   "metadata": {},
   "outputs": [],
   "source": []
  },
  {
   "cell_type": "code",
   "execution_count": null,
   "id": "e72cb9ea-3088-439c-91f6-adab043187a0",
   "metadata": {},
   "outputs": [],
   "source": []
  }
 ],
 "metadata": {
  "kernelspec": {
   "display_name": "Python 3 (ipykernel)",
   "language": "python",
   "name": "python3"
  },
  "language_info": {
   "codemirror_mode": {
    "name": "ipython",
    "version": 3
   },
   "file_extension": ".py",
   "mimetype": "text/x-python",
   "name": "python",
   "nbconvert_exporter": "python",
   "pygments_lexer": "ipython3",
   "version": "3.9.13"
  }
 },
 "nbformat": 4,
 "nbformat_minor": 5
}
