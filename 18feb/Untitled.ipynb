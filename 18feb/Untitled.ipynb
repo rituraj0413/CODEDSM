{
 "cells": [
  {
   "cell_type": "raw",
   "id": "8a42d8ab-260e-402e-8dea-42b4381605af",
   "metadata": {},
   "source": [
    "web api\n",
    "application programing interference = how will u communicate with two interfeerence homogeneus"
   ]
  },
  {
   "cell_type": "raw",
   "id": "afb29f39-52c1-4ee1-877d-6cb9f602519f",
   "metadata": {},
   "source": [
    "neutral ground"
   ]
  },
  {
   "cell_type": "raw",
   "id": "f8a0e9ff-05a0-4eb2-b5e3-002b099b46cb",
   "metadata": {},
   "source": [
    "web api based on server that is sttp \n",
    "web is hetrogenous"
   ]
  },
  {
   "cell_type": "raw",
   "id": "96fd12ce-c123-40c0-b117-1dcc3deefeb4",
   "metadata": {},
   "source": [
    "api - can be create with tcp, sttp , http \n",
    "web api = subset of api"
   ]
  },
  {
   "cell_type": "raw",
   "id": "c8961baa-fc11-496f-a6db-ed8db48b4104",
   "metadata": {},
   "source": [
    "Homogeneous =same\n",
    "hetrogenous = diff lib, dif framework"
   ]
  },
  {
   "cell_type": "raw",
   "id": "83457559-0840-4ac9-be91-63ae301ee7bf",
   "metadata": {},
   "source": [
    "rest and soap architecture \n",
    "rest = called as representaion state transfer\n",
    "soap = simple object access protocol\n",
    "both is beed used to create api\n",
    "\n",
    "rest used http protocol u will able to execute,delete ,add find out function put ,able to see post\n",
    "simplicity\n",
    "flexiblity\n",
    "scalability\n",
    "soap used tcp smpt used the data in form of xml\n",
    "xml = xcented markup language\n",
    "       WSDL\n",
    "       \n",
    "       \n",
    "       \n",
    "       \n",
    "       if u want to make an api having so much security use soap archi\n"
   ]
  }
 ],
 "metadata": {
  "kernelspec": {
   "display_name": "Python 3 (ipykernel)",
   "language": "python",
   "name": "python3"
  },
  "language_info": {
   "codemirror_mode": {
    "name": "ipython",
    "version": 3
   },
   "file_extension": ".py",
   "mimetype": "text/x-python",
   "name": "python",
   "nbconvert_exporter": "python",
   "pygments_lexer": "ipython3",
   "version": "3.9.13"
  }
 },
 "nbformat": 4,
 "nbformat_minor": 5
}
